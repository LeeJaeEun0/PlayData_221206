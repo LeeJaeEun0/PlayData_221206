{
  "nbformat": 4,
  "nbformat_minor": 0,
  "metadata": {
    "colab": {
      "provenance": [],
      "toc_visible": true,
      "collapsed_sections": [
        "FGtZe0BXUaC7",
        "OkVt1ttuYeUR",
        "yECBnjL_ZilJ",
        "ZcVQyXljZ_gw",
        "wc4BJleJhTcn"
      ]
    },
    "kernelspec": {
      "name": "python3",
      "display_name": "Python 3"
    },
    "language_info": {
      "name": "python"
    }
  },
  "cells": [
    {
      "cell_type": "code",
      "execution_count": null,
      "metadata": {
        "id": "TSSh6-8RK2Zn"
      },
      "outputs": [],
      "source": [
        "import numpy as np # numpy를 사용하기 위해서 import를 사용"
      ]
    },
    {
      "cell_type": "markdown",
      "source": [
        "## 배열 연결\n",
        "* 행의 수나 열의 수가 같은 두 개 이상의 배열을 연결하여 더 큰 배열을 생성"
      ],
      "metadata": {
        "id": "JrRAC3rkOS9r"
      }
    },
    {
      "cell_type": "markdown",
      "source": [
        "### concatenate\n"
      ],
      "metadata": {
        "id": "yUG-jRqLLnHt"
      }
    },
    {
      "cell_type": "code",
      "source": [
        "\"1\" +\"1\" # 문자열이기때문에 결과는 11이다."
      ],
      "metadata": {
        "colab": {
          "base_uri": "https://localhost:8080/",
          "height": 35
        },
        "id": "A2qeVCpmOmc0",
        "outputId": "e6c7555d-5f6a-4066-cb3b-f44cb1635c59"
      },
      "execution_count": null,
      "outputs": [
        {
          "output_type": "execute_result",
          "data": {
            "text/plain": [
              "'11'"
            ],
            "application/vnd.google.colaboratory.intrinsic+json": {
              "type": "string"
            }
          },
          "metadata": {},
          "execution_count": 2
        }
      ]
    },
    {
      "cell_type": "code",
      "source": [
        "[1,2]+[3,4]"
      ],
      "metadata": {
        "colab": {
          "base_uri": "https://localhost:8080/"
        },
        "id": "EpMWhEz5OoQk",
        "outputId": "455afd3a-4830-4d34-872e-54a482360904"
      },
      "execution_count": null,
      "outputs": [
        {
          "output_type": "execute_result",
          "data": {
            "text/plain": [
              "[1, 2, 3, 4]"
            ]
          },
          "metadata": {},
          "execution_count": 3
        }
      ]
    },
    {
      "cell_type": "code",
      "source": [
        "#벡터화 연산 (리스트처럼 concatnate 불가 - 리스트1 + 리스트2 = 리스트1 리스트2 로 보임)\n",
        "arr1 = np.arange(1,4) # [1,2,3]\n",
        "arr2 = np.arange(4,7) # [4,5,6]\n",
        "arr1+arr2             # [4,7,9]"
      ],
      "metadata": {
        "colab": {
          "base_uri": "https://localhost:8080/"
        },
        "id": "rmUGB5jgOqfr",
        "outputId": "4d02384f-1782-404e-bd38-aded7d3f688b"
      },
      "execution_count": null,
      "outputs": [
        {
          "output_type": "execute_result",
          "data": {
            "text/plain": [
              "array([5, 7, 9])"
            ]
          },
          "metadata": {},
          "execution_count": 4
        }
      ]
    },
    {
      "cell_type": "code",
      "source": [
        "arr = np.concatenate([arr1, arr2]) # concatnate는 기능이 많다! \n",
        "arr # 1차원 배열 연결"
      ],
      "metadata": {
        "colab": {
          "base_uri": "https://localhost:8080/"
        },
        "id": "P73p5wE_O6kv",
        "outputId": "094dd9be-a2b1-49da-b769-c1f3326d9259"
      },
      "execution_count": null,
      "outputs": [
        {
          "output_type": "execute_result",
          "data": {
            "text/plain": [
              "array([1, 2, 3, 4, 5, 6])"
            ]
          },
          "metadata": {},
          "execution_count": 5
        }
      ]
    },
    {
      "cell_type": "code",
      "source": [
        "# 2차원 배열\n",
        "arr1 = np.arange(1,5).reshape(2,2) # arr1 [[1,2,],[3,4]] 2행 2열 배열로 변형(위에서 이미 arr1 선언해서)\n",
        "arr2 = np.arange(5,9).reshape(2,2) # arr2 [[5,6],[7,8]] 2행 2열 배열로 변형(위에서 이미 arr2 선언해서)"
      ],
      "metadata": {
        "id": "hUz9IPRKO_hh"
      },
      "execution_count": null,
      "outputs": []
    },
    {
      "cell_type": "code",
      "source": [
        "arr1 # 2차원 배열 출력"
      ],
      "metadata": {
        "colab": {
          "base_uri": "https://localhost:8080/"
        },
        "id": "DFuxLH4fPmC_",
        "outputId": "55031cc4-4d7a-44c2-c444-72f2e6708f09"
      },
      "execution_count": null,
      "outputs": [
        {
          "output_type": "execute_result",
          "data": {
            "text/plain": [
              "array([[1, 2],\n",
              "       [3, 4]])"
            ]
          },
          "metadata": {},
          "execution_count": 8
        }
      ]
    },
    {
      "cell_type": "code",
      "source": [
        "arr2 # 2차원 배열 출력"
      ],
      "metadata": {
        "colab": {
          "base_uri": "https://localhost:8080/"
        },
        "id": "VzkTFyEAPzPj",
        "outputId": "047ca921-0382-42df-8bff-542084824738"
      },
      "execution_count": null,
      "outputs": [
        {
          "output_type": "execute_result",
          "data": {
            "text/plain": [
              "array([[5, 6],\n",
              "       [7, 8]])"
            ]
          },
          "metadata": {},
          "execution_count": 9
        }
      ]
    },
    {
      "cell_type": "code",
      "source": [
        "arr = np.concatenate([arr1, arr2]) # 열을 기준으로 합침(arr1 뒤에 arr2 붙은 형태)\n",
        "arr"
      ],
      "metadata": {
        "colab": {
          "base_uri": "https://localhost:8080/"
        },
        "id": "_k-D49wAPz05",
        "outputId": "fbb0bbc8-ad8d-40d3-c9ab-91d3aad1dfe0"
      },
      "execution_count": null,
      "outputs": [
        {
          "output_type": "execute_result",
          "data": {
            "text/plain": [
              "array([[1, 2],\n",
              "       [3, 4],\n",
              "       [5, 6],\n",
              "       [7, 8]])"
            ]
          },
          "metadata": {},
          "execution_count": 11
        }
      ]
    },
    {
      "cell_type": "code",
      "source": [
        "arr = np.concatenate([arr1, arr2], axis=0) # 열을 기준으로 합침 - 같은 열끼리\n",
        "arr"
      ],
      "metadata": {
        "colab": {
          "base_uri": "https://localhost:8080/"
        },
        "id": "m0xk50D4Eiar",
        "outputId": "173440c1-9195-4c1c-c96f-f944372878cb"
      },
      "execution_count": null,
      "outputs": [
        {
          "output_type": "execute_result",
          "data": {
            "text/plain": [
              "array([[1, 2],\n",
              "       [3, 4],\n",
              "       [5, 6],\n",
              "       [7, 8]])"
            ]
          },
          "metadata": {},
          "execution_count": 4
        }
      ]
    },
    {
      "cell_type": "code",
      "source": [
        "arr = np.concatenate([arr1, arr2], axis=1) # 행을 기준으로 정리 - 같은 행끼리 묶음 (0행끼리 한줄, 1행끼리 한줄)\n",
        "arr"
      ],
      "metadata": {
        "colab": {
          "base_uri": "https://localhost:8080/"
        },
        "id": "BQ42jY4dQVKQ",
        "outputId": "ea89eba6-3346-4228-e149-05ec9b76e9cd"
      },
      "execution_count": null,
      "outputs": [
        {
          "output_type": "execute_result",
          "data": {
            "text/plain": [
              "array([[1, 2, 5, 6],\n",
              "       [3, 4, 7, 8]])"
            ]
          },
          "metadata": {},
          "execution_count": 12
        }
      ]
    },
    {
      "cell_type": "code",
      "source": [
        "arr = np.concatenate([arr1, arr2], axis=2) # 일부로 오류 발생시키기\n",
        "arr"
      ],
      "metadata": {
        "colab": {
          "base_uri": "https://localhost:8080/",
          "height": 230
        },
        "id": "mFohC_SmRHp7",
        "outputId": "8ee6b992-d34f-46f3-8115-b12018434797"
      },
      "execution_count": null,
      "outputs": [
        {
          "output_type": "error",
          "ename": "AxisError",
          "evalue": "ignored",
          "traceback": [
            "\u001b[0;31m---------------------------------------------------------------------------\u001b[0m",
            "\u001b[0;31mAxisError\u001b[0m                                 Traceback (most recent call last)",
            "\u001b[0;32m<ipython-input-13-80b1973369d9>\u001b[0m in \u001b[0;36m<module>\u001b[0;34m\u001b[0m\n\u001b[0;32m----> 1\u001b[0;31m \u001b[0marr\u001b[0m \u001b[0;34m=\u001b[0m \u001b[0mnp\u001b[0m\u001b[0;34m.\u001b[0m\u001b[0mconcatenate\u001b[0m\u001b[0;34m(\u001b[0m\u001b[0;34m[\u001b[0m\u001b[0marr1\u001b[0m\u001b[0;34m,\u001b[0m \u001b[0marr2\u001b[0m\u001b[0;34m]\u001b[0m\u001b[0;34m,\u001b[0m \u001b[0maxis\u001b[0m\u001b[0;34m=\u001b[0m\u001b[0;36m2\u001b[0m\u001b[0;34m)\u001b[0m \u001b[0;31m# 열을 기준으로(행을 기준으로 묶고 다시 열로 출력)\u001b[0m\u001b[0;34m\u001b[0m\u001b[0;34m\u001b[0m\u001b[0m\n\u001b[0m\u001b[1;32m      2\u001b[0m \u001b[0marr\u001b[0m\u001b[0;34m\u001b[0m\u001b[0;34m\u001b[0m\u001b[0m\n",
            "\u001b[0;32m<__array_function__ internals>\u001b[0m in \u001b[0;36mconcatenate\u001b[0;34m(*args, **kwargs)\u001b[0m\n",
            "\u001b[0;31mAxisError\u001b[0m: axis 2 is out of bounds for array of dimension 2"
          ]
        }
      ]
    },
    {
      "cell_type": "markdown",
      "source": [
        "**h**orizontal 수평: 가로<br>\n",
        "**v**ertical 수직: 세로"
      ],
      "metadata": {
        "id": "JGrFCgI2Qpe6"
      }
    },
    {
      "cell_type": "markdown",
      "source": [
        "### `hstack`\n",
        "* `행의 수가 같은` 두 개 이상의 배열을 **옆**으로 연결하여 열의 개수가 늘어난 배열을 만듦\n",
        "* 연결할 배열은 하나의 리스트(튜플)에 담아서 메소드에 넣어줘야함\n",
        "* 가로로 결합"
      ],
      "metadata": {
        "id": "dxj7PociRTpa"
      }
    },
    {
      "cell_type": "code",
      "source": [
        "a1 = np.ones((2,3))# 2행 3열 \n",
        "a1"
      ],
      "metadata": {
        "colab": {
          "base_uri": "https://localhost:8080/"
        },
        "id": "LzArOJqWQaZ5",
        "outputId": "75c46044-2d93-435e-91e8-fde5860ee169"
      },
      "execution_count": null,
      "outputs": [
        {
          "output_type": "execute_result",
          "data": {
            "text/plain": [
              "array([[1., 1., 1.],\n",
              "       [1., 1., 1.]])"
            ]
          },
          "metadata": {},
          "execution_count": 14
        }
      ]
    },
    {
      "cell_type": "code",
      "source": [
        "a2 = np.zeros((2,2)) # 2행 2열\n",
        "a2"
      ],
      "metadata": {
        "colab": {
          "base_uri": "https://localhost:8080/"
        },
        "id": "P84hsHD1RrbL",
        "outputId": "841a9c74-c605-44ed-c38f-62ba89262f06"
      },
      "execution_count": null,
      "outputs": [
        {
          "output_type": "execute_result",
          "data": {
            "text/plain": [
              "array([[0., 0.],\n",
              "       [0., 0.]])"
            ]
          },
          "metadata": {},
          "execution_count": 15
        }
      ]
    },
    {
      "cell_type": "code",
      "source": [
        "np.hstack([a1,a2]) # 행의 숫자가 같아서 가능, 같은 행에 추가 되는 형태로 보임"
      ],
      "metadata": {
        "colab": {
          "base_uri": "https://localhost:8080/"
        },
        "id": "2HYnQ1fIRz2s",
        "outputId": "71e40d87-9a0b-429a-cada-f47fd1097a9d"
      },
      "execution_count": null,
      "outputs": [
        {
          "output_type": "execute_result",
          "data": {
            "text/plain": [
              "array([[1., 1., 1., 0., 0.],\n",
              "       [1., 1., 1., 0., 0.]])"
            ]
          },
          "metadata": {},
          "execution_count": 16
        }
      ]
    },
    {
      "cell_type": "code",
      "source": [
        "np.hstack((a1,a2)) # 튜플 형태로 넣어도 동일"
      ],
      "metadata": {
        "colab": {
          "base_uri": "https://localhost:8080/"
        },
        "id": "f16DtPVvR55l",
        "outputId": "5e045c0c-5b6c-4820-e502-8054aaa1df7d"
      },
      "execution_count": null,
      "outputs": [
        {
          "output_type": "execute_result",
          "data": {
            "text/plain": [
              "array([[1., 1., 1., 0., 0.],\n",
              "       [1., 1., 1., 0., 0.]])"
            ]
          },
          "metadata": {},
          "execution_count": 17
        }
      ]
    },
    {
      "cell_type": "markdown",
      "source": [
        "### `vstack`\n",
        "* `열의 수가 같은` 두 개 이상의 배열을 **위아래**으로 연결하여 행의 개수가 늘어난 배열을 만듦\n",
        "* 연결할 배열은 하나의 리스트(튜플)에 담아서 메소드에 넣어줘야 함\n",
        "* 세로로 결합"
      ],
      "metadata": {
        "id": "JlUiNTb2SBdp"
      }
    },
    {
      "cell_type": "code",
      "source": [
        "b1 = np.ones((2,3))\n",
        "b2 = np.zeros((3,3))\n",
        "b1, b2"
      ],
      "metadata": {
        "colab": {
          "base_uri": "https://localhost:8080/"
        },
        "id": "T9m4tJ7FR9Xn",
        "outputId": "73797aec-8e82-42aa-9c1e-8c216aa3c755"
      },
      "execution_count": null,
      "outputs": [
        {
          "output_type": "execute_result",
          "data": {
            "text/plain": [
              "(array([[1., 1., 1.],\n",
              "        [1., 1., 1.]]), array([[0., 0., 0.],\n",
              "        [0., 0., 0.],\n",
              "        [0., 0., 0.]]))"
            ]
          },
          "metadata": {},
          "execution_count": 18
        }
      ]
    },
    {
      "cell_type": "code",
      "source": [
        "np.vstack([b1, b2]) # 행이 쌓이는 것을 볼 수 있다. - 열이 같은 형태이고 행이 추가 됨"
      ],
      "metadata": {
        "colab": {
          "base_uri": "https://localhost:8080/"
        },
        "id": "qBCGXjf_SSNE",
        "outputId": "f79d1f96-b1c3-4c23-a7b7-d6ae2deb71f0"
      },
      "execution_count": null,
      "outputs": [
        {
          "output_type": "execute_result",
          "data": {
            "text/plain": [
              "array([[1., 1., 1.],\n",
              "       [1., 1., 1.],\n",
              "       [0., 0., 0.],\n",
              "       [0., 0., 0.],\n",
              "       [0., 0., 0.]])"
            ]
          },
          "metadata": {},
          "execution_count": 19
        }
      ]
    },
    {
      "cell_type": "markdown",
      "source": [
        "### 'dstack' depth\n",
        "* 제3의 축 즉, 행이나 열이 아니라 깊이(depth) 방향으로 배열 합침\n",
        "* 가장 안쪽의 원소 차원이 증가, 즉 가장 내부의 숫자원소가 배열\n",
        "* 깊이 방향으로 결합"
      ],
      "metadata": {
        "id": "UBNq1034So67"
      }
    },
    {
      "cell_type": "code",
      "source": [
        "c1 = np.ones((3,4))\n",
        "c2 = np.zeros((3,4))"
      ],
      "metadata": {
        "id": "C3t6g42_SiKG"
      },
      "execution_count": null,
      "outputs": []
    },
    {
      "cell_type": "code",
      "source": [
        "c1"
      ],
      "metadata": {
        "colab": {
          "base_uri": "https://localhost:8080/"
        },
        "id": "XTb_gjPQTB0B",
        "outputId": "5298a0b9-26d1-4751-a343-2d4ca1520391"
      },
      "execution_count": null,
      "outputs": [
        {
          "output_type": "execute_result",
          "data": {
            "text/plain": [
              "array([[1., 1., 1., 1.],\n",
              "       [1., 1., 1., 1.],\n",
              "       [1., 1., 1., 1.]])"
            ]
          },
          "metadata": {},
          "execution_count": 21
        }
      ]
    },
    {
      "cell_type": "code",
      "source": [
        "c2"
      ],
      "metadata": {
        "colab": {
          "base_uri": "https://localhost:8080/"
        },
        "id": "jU3Twyx_TEP8",
        "outputId": "9adf13f6-5d90-4adb-d936-045c97b4bfbc"
      },
      "execution_count": null,
      "outputs": [
        {
          "output_type": "execute_result",
          "data": {
            "text/plain": [
              "array([[0., 0., 0., 0.],\n",
              "       [0., 0., 0., 0.],\n",
              "       [0., 0., 0., 0.]])"
            ]
          },
          "metadata": {},
          "execution_count": 22
        }
      ]
    },
    {
      "cell_type": "code",
      "source": [
        "np.dstack([c1,c2]) # 행과 열 둘다 증가 된다 # 리스트 속에 리스트\n",
        "# 한 행의 각 열을 행으로 만들어 다른 리스트와 합쳐서. 리스트 속에 리스트로 만들어졌구나\n",
        "# 같은 행과 열의 위치에 있던 것끼리 붙였다."
      ],
      "metadata": {
        "colab": {
          "base_uri": "https://localhost:8080/"
        },
        "id": "-uP6R0E5TE8z",
        "outputId": "58929d60-5d39-47ce-a873-a1b81e0f0d37"
      },
      "execution_count": null,
      "outputs": [
        {
          "output_type": "execute_result",
          "data": {
            "text/plain": [
              "array([[[1., 0.],\n",
              "        [1., 0.],\n",
              "        [1., 0.],\n",
              "        [1., 0.]],\n",
              "\n",
              "       [[1., 0.],\n",
              "        [1., 0.],\n",
              "        [1., 0.],\n",
              "        [1., 0.]],\n",
              "\n",
              "       [[1., 0.],\n",
              "        [1., 0.],\n",
              "        [1., 0.],\n",
              "        [1., 0.]]])"
            ]
          },
          "metadata": {},
          "execution_count": 23
        }
      ]
    },
    {
      "cell_type": "markdown",
      "source": [
        "### `stack`\n",
        "* `dstack`의 기능을 확장한 것으로 `dstack`처럼 마지막 차원으로 연결하는 것이 아니라 사용자가 지정한 차원(축으로) 배열을 연결\n",
        "* axis 인수(디폴트 0)를 사용하여 연결후의 회전 방향을 정함\n",
        "* 디폴트 인수값은 0이고 가장 앞쪽에 차원이 생성. 즉, 배열 두 개가 겹치게 되므로 연결하고자 하는 배열들의 크기가 모두 같아야 함"
      ],
      "metadata": {
        "id": "FGtZe0BXUaC7"
      }
    },
    {
      "cell_type": "code",
      "source": [
        "c = np.stack([c1, c2]) # axis = 0 # vstack과 같은 결과\n",
        "c, c.shape "
      ],
      "metadata": {
        "colab": {
          "base_uri": "https://localhost:8080/"
        },
        "id": "G5MNIE6MTIj2",
        "outputId": "bbaa7d57-f214-498c-de5c-e11a450a5254"
      },
      "execution_count": null,
      "outputs": [
        {
          "output_type": "execute_result",
          "data": {
            "text/plain": [
              "(array([[[1., 1., 1., 1.],\n",
              "         [1., 1., 1., 1.],\n",
              "         [1., 1., 1., 1.]],\n",
              " \n",
              "        [[0., 0., 0., 0.],\n",
              "         [0., 0., 0., 0.],\n",
              "         [0., 0., 0., 0.]]]), (2, 3, 4))"
            ]
          },
          "metadata": {},
          "execution_count": 24
        }
      ]
    },
    {
      "cell_type": "code",
      "source": [
        "c = np.stack([c1, c2], axis=1) # axis = 1 # hstack과 같은 결과\n",
        "c, c.shape "
      ],
      "metadata": {
        "colab": {
          "base_uri": "https://localhost:8080/"
        },
        "id": "qkJ2MbedU3NM",
        "outputId": "aba40008-4dac-4978-d99e-f7c1f9d67aae"
      },
      "execution_count": null,
      "outputs": [
        {
          "output_type": "execute_result",
          "data": {
            "text/plain": [
              "(array([[[1., 1., 1., 1.],\n",
              "         [0., 0., 0., 0.]],\n",
              " \n",
              "        [[1., 1., 1., 1.],\n",
              "         [0., 0., 0., 0.]],\n",
              " \n",
              "        [[1., 1., 1., 1.],\n",
              "         [0., 0., 0., 0.]]]), (3, 2, 4))"
            ]
          },
          "metadata": {},
          "execution_count": 25
        }
      ]
    },
    {
      "cell_type": "code",
      "source": [
        "c = np.stack([c1, c2], axis=2) # axis = 2 # dstack과 같은 결과\n",
        "c, c.shape "
      ],
      "metadata": {
        "colab": {
          "base_uri": "https://localhost:8080/"
        },
        "id": "0IcChFcdU51g",
        "outputId": "d39ad8c8-0896-47fd-b04c-1185f4c08400"
      },
      "execution_count": null,
      "outputs": [
        {
          "output_type": "execute_result",
          "data": {
            "text/plain": [
              "(array([[[1., 0.],\n",
              "         [1., 0.],\n",
              "         [1., 0.],\n",
              "         [1., 0.]],\n",
              " \n",
              "        [[1., 0.],\n",
              "         [1., 0.],\n",
              "         [1., 0.],\n",
              "         [1., 0.]],\n",
              " \n",
              "        [[1., 0.],\n",
              "         [1., 0.],\n",
              "         [1., 0.],\n",
              "         [1., 0.]]]), (3, 4, 2))"
            ]
          },
          "metadata": {},
          "execution_count": 26
        }
      ]
    },
    {
      "cell_type": "markdown",
      "source": [
        "## axis는 결합할 축을 결정하는 것이다.\n",
        "- 두 번째에 인수 axis에 결합할 축(차원)을 0부터 시작하는 것으로 지정하는 것은 numpy.concatenate()와 동일하다. \n",
        "- 그러나, axis는 결합된 배열을 위한 축을 지정한다.\n",
        "- axis = 0로 지정하면 배열의 0차원째(행)에 따라 결합된다.\n",
        "- axis = 1로 지정하면 2번째의 축(1차원째)이 열이므로 가로로 결합된다.\n",
        "- 존재하지 않는 축(차원)을 지정하면 에러가 발생한다. \n",
        "- 결합 축 이외의 축의 사이즈가 일치하지 않고 있으면 에러가 된다\n",
        "- -1은 가장 큰 수와 같다!!!"
      ],
      "metadata": {
        "id": "qRKFjTkaWBbK"
      }
    },
    {
      "cell_type": "markdown",
      "source": [
        "### `r_`\n",
        "* `hstack` 비슷하게 배열을 좌-우 연결\n",
        "* 메소드 소괄호(parenthesis, `()`)를 사용하지 않고, 대괄호(bracket, [])를 사용\n",
        "* 특수 메소드 = 인덱서(indexer)"
      ],
      "metadata": {
        "id": "OkVt1ttuYeUR"
      }
    },
    {
      "cell_type": "code",
      "source": [
        "np.r_[np.arange(1,2), np.arange(4,7)]"
      ],
      "metadata": {
        "colab": {
          "base_uri": "https://localhost:8080/"
        },
        "id": "4fYLqXHuY5eR",
        "outputId": "3b9cd695-abef-4de7-a3f4-825961e355d7"
      },
      "execution_count": null,
      "outputs": [
        {
          "output_type": "execute_result",
          "data": {
            "text/plain": [
              "array([1, 4, 5, 6])"
            ]
          },
          "metadata": {},
          "execution_count": 28
        }
      ]
    },
    {
      "cell_type": "markdown",
      "source": [
        "### `c_`\n",
        "* 배열의 차원을 증가시킨 뒤 좌우로 연결"
      ],
      "metadata": {
        "id": "DVMmTR7bZHHY"
      }
    },
    {
      "cell_type": "code",
      "source": [
        "np.c_[np.arange(1,4), np.arange(4,7)]"
      ],
      "metadata": {
        "colab": {
          "base_uri": "https://localhost:8080/"
        },
        "id": "Yz9yh72WZBNa",
        "outputId": "1e151305-a39d-4915-a29d-a5b5ee27d732"
      },
      "execution_count": null,
      "outputs": [
        {
          "output_type": "execute_result",
          "data": {
            "text/plain": [
              "array([[1, 4],\n",
              "       [2, 5],\n",
              "       [3, 6]])"
            ]
          },
          "metadata": {},
          "execution_count": 29
        }
      ]
    },
    {
      "cell_type": "markdown",
      "source": [
        "### `tile`\n",
        "* 동일한 배열을 반복하여 연결"
      ],
      "metadata": {
        "id": "yECBnjL_ZilJ"
      }
    },
    {
      "cell_type": "code",
      "source": [
        "a = np.arange(6).reshape(2, -1)\n",
        "a"
      ],
      "metadata": {
        "colab": {
          "base_uri": "https://localhost:8080/"
        },
        "id": "IGyQMFbOZdy1",
        "outputId": "9cd764a4-a86d-4685-bbdf-4be424425a92"
      },
      "execution_count": null,
      "outputs": [
        {
          "output_type": "execute_result",
          "data": {
            "text/plain": [
              "array([[0, 1, 2],\n",
              "       [3, 4, 5]])"
            ]
          },
          "metadata": {},
          "execution_count": 30
        }
      ]
    },
    {
      "cell_type": "code",
      "source": [
        "np.tile(a,2) #반복할 배열, 반복할 횟수(가로로 2번 )"
      ],
      "metadata": {
        "colab": {
          "base_uri": "https://localhost:8080/"
        },
        "id": "QPsK40tqZlAo",
        "outputId": "4d08e280-2ea4-49a2-a7de-7c903313266f"
      },
      "execution_count": null,
      "outputs": [
        {
          "output_type": "execute_result",
          "data": {
            "text/plain": [
              "array([[0, 1, 2, 0, 1, 2],\n",
              "       [3, 4, 5, 3, 4, 5]])"
            ]
          },
          "metadata": {},
          "execution_count": 32
        }
      ]
    },
    {
      "cell_type": "code",
      "source": [
        "np.tile(a, (3, 2)) # 행으로 3번, 열로 2번"
      ],
      "metadata": {
        "colab": {
          "base_uri": "https://localhost:8080/"
        },
        "id": "VOjEqd9fZtex",
        "outputId": "431449ce-1a37-48c7-8479-709438828734"
      },
      "execution_count": null,
      "outputs": [
        {
          "output_type": "execute_result",
          "data": {
            "text/plain": [
              "array([[0, 1, 2, 0, 1, 2],\n",
              "       [3, 4, 5, 3, 4, 5],\n",
              "       [0, 1, 2, 0, 1, 2],\n",
              "       [3, 4, 5, 3, 4, 5],\n",
              "       [0, 1, 2, 0, 1, 2],\n",
              "       [3, 4, 5, 3, 4, 5]])"
            ]
          },
          "metadata": {},
          "execution_count": 34
        }
      ]
    },
    {
      "cell_type": "markdown",
      "source": [
        "## ⚓ 연습문제 1\n",
        "array([[  0.,   0.,   0.,   1.,   1.],<br>\n",
        "       [  0.,   0.,   0.,   1.,   1.],<br>\n",
        "       [  0.,   0.,   0.,   1.,   1.],<br>\n",
        "       [ 10.,  20.,  30.,  40.,  50.],<br>\n",
        "       [ 60.,  70.,  80.,  90., 100.],<br>\n",
        "       [110., 120., 130., 140., 150.],<br>\n",
        "       [  0.,   0.,   0.,   1.,   1.],<br>\n",
        "       [  0.,   0.,   0.,   1.,   1.],<br>\n",
        "       [  0.,   0.,   0.,   1.,   1.],<br>\n",
        "       [ 10.,  20.,  30.,  40.,  50.],<br>\n",
        "       [ 60.,  70.,  80.,  90., 100.],<br>\n",
        "       [110., 120., 130., 140., 150.]])"
      ],
      "metadata": {
        "id": "ZcVQyXljZ_gw"
      }
    },
    {
      "cell_type": "code",
      "source": [
        "arr1 = np.zeros((3,3))\n",
        "arr2 = np.ones((3,2))\n",
        "arr3 = np.arange(1,6).reshape(1,5)\n",
        "arr4 = np.arange(6,11).reshape(1,5)\n",
        "arr5 = np.arange(11,16).reshape(1,5)\n",
        "arr1, arr2, arr3, arr4, arr5"
      ],
      "metadata": {
        "colab": {
          "base_uri": "https://localhost:8080/"
        },
        "id": "jgvHmtArZ13J",
        "outputId": "03fd5baf-ba07-4e8e-bb1b-e7369a13546c"
      },
      "execution_count": null,
      "outputs": [
        {
          "output_type": "execute_result",
          "data": {
            "text/plain": [
              "(array([[0., 0., 0.],\n",
              "        [0., 0., 0.],\n",
              "        [0., 0., 0.]]), array([[1., 1.],\n",
              "        [1., 1.],\n",
              "        [1., 1.]]), array([[1, 2, 3, 4, 5]]), array([[ 6,  7,  8,  9, 10]]), array([[11, 12, 13, 14, 15]]))"
            ]
          },
          "metadata": {},
          "execution_count": 42
        }
      ]
    },
    {
      "cell_type": "code",
      "source": [
        "arr3 =arr3*10\n",
        "arr4 =arr4* 10\n",
        "arr5 =arr5*10"
      ],
      "metadata": {
        "id": "8ldnzJ4xa6Ia"
      },
      "execution_count": null,
      "outputs": []
    },
    {
      "cell_type": "code",
      "source": [
        "# arr1과 arr2 합치기\n",
        "arrays = np.hstack([arr1, arr2])\n",
        "arrays"
      ],
      "metadata": {
        "colab": {
          "base_uri": "https://localhost:8080/"
        },
        "id": "UwSBqmh-bej1",
        "outputId": "fa860133-9e19-4aee-f79f-25e7e22172f8"
      },
      "execution_count": null,
      "outputs": [
        {
          "output_type": "execute_result",
          "data": {
            "text/plain": [
              "array([[0., 0., 0., 1., 1.],\n",
              "       [0., 0., 0., 1., 1.],\n",
              "       [0., 0., 0., 1., 1.]])"
            ]
          },
          "metadata": {},
          "execution_count": 46
        }
      ]
    },
    {
      "cell_type": "code",
      "source": [
        "arrays = np.vstack([arrays, arr3, arr4, arr5])"
      ],
      "metadata": {
        "id": "A1Zm7D4Tb8F1"
      },
      "execution_count": null,
      "outputs": []
    },
    {
      "cell_type": "code",
      "source": [
        "arrays   # 2차원 배열을 1차원 배열로 만듦;;;; 다시하기"
      ],
      "metadata": {
        "colab": {
          "base_uri": "https://localhost:8080/"
        },
        "id": "smVUT35kcX4H",
        "outputId": "91c2c65a-8143-49d2-c944-18aa18b0d332"
      },
      "execution_count": null,
      "outputs": [
        {
          "output_type": "execute_result",
          "data": {
            "text/plain": [
              "array([[  0.,   0.,   0.,   1.,   1.],\n",
              "       [  0.,   0.,   0.,   1.,   1.],\n",
              "       [  0.,   0.,   0.,   1.,   1.],\n",
              "       [ 10.,  20.,  30.,  40.,  50.],\n",
              "       [ 60.,  70.,  80.,  90., 100.],\n",
              "       [110., 120., 130., 140., 150.]])"
            ]
          },
          "metadata": {},
          "execution_count": 48
        }
      ]
    },
    {
      "cell_type": "code",
      "source": [
        "arr1 = np.zeros((3,3))\n",
        "arr2 = np.ones((3,2))\n",
        "arr3 = np.arange(1,6).reshape(1,5)\n",
        "arr4 = np.arange(6,11).reshape(1,5)\n",
        "arr5 = np.arange(11,16).reshape(1,5)\n",
        "arr3 =arr3*10\n",
        "arr4 =arr4* 10\n",
        "arr5 =arr5*10"
      ],
      "metadata": {
        "id": "g77BpKdGcZLP"
      },
      "execution_count": null,
      "outputs": []
    },
    {
      "cell_type": "code",
      "source": [
        "arrays1 = np.hstack([arr1, arr2])\n",
        "arrays2 = np.hstack([arr_1, arr_2])"
      ],
      "metadata": {
        "id": "GVuturaPdbdX"
      },
      "execution_count": null,
      "outputs": []
    },
    {
      "cell_type": "code",
      "source": [
        "arrays3 = np.vstack([arrays1, arr3, arr4, arr5])\n",
        "arrays3"
      ],
      "metadata": {
        "colab": {
          "base_uri": "https://localhost:8080/"
        },
        "id": "IE-inT36e-Y_",
        "outputId": "32e37031-6d71-4099-91aa-746697f7b24a"
      },
      "execution_count": null,
      "outputs": [
        {
          "output_type": "execute_result",
          "data": {
            "text/plain": [
              "array([[  0.,   0.,   0.,   1.,   1.],\n",
              "       [  0.,   0.,   0.,   1.,   1.],\n",
              "       [  0.,   0.,   0.,   1.,   1.],\n",
              "       [ 10.,  20.,  30.,  40.,  50.],\n",
              "       [ 60.,  70.,  80.,  90., 100.],\n",
              "       [110., 120., 130., 140., 150.]])"
            ]
          },
          "metadata": {},
          "execution_count": 68
        }
      ]
    },
    {
      "cell_type": "code",
      "source": [
        "arrays = np.stack([arrays3, arrays3])"
      ],
      "metadata": {
        "id": "gwlakKRcewtK"
      },
      "execution_count": null,
      "outputs": []
    },
    {
      "cell_type": "code",
      "source": [
        "arrays"
      ],
      "metadata": {
        "colab": {
          "base_uri": "https://localhost:8080/"
        },
        "id": "FEO6MLzhf4LF",
        "outputId": "dbc5eddd-9ad2-4a5f-ebb3-c3ca96b0f207"
      },
      "execution_count": null,
      "outputs": [
        {
          "output_type": "execute_result",
          "data": {
            "text/plain": [
              "array([[[  0.,   0.,   0.,   1.,   1.],\n",
              "        [  0.,   0.,   0.,   1.,   1.],\n",
              "        [  0.,   0.,   0.,   1.,   1.],\n",
              "        [ 10.,  20.,  30.,  40.,  50.],\n",
              "        [ 60.,  70.,  80.,  90., 100.],\n",
              "        [110., 120., 130., 140., 150.]],\n",
              "\n",
              "       [[  0.,   0.,   0.,   1.,   1.],\n",
              "        [  0.,   0.,   0.,   1.,   1.],\n",
              "        [  0.,   0.,   0.,   1.,   1.],\n",
              "        [ 10.,  20.,  30.,  40.,  50.],\n",
              "        [ 60.,  70.,  80.,  90., 100.],\n",
              "        [110., 120., 130., 140., 150.]]])"
            ]
          },
          "metadata": {},
          "execution_count": 67
        }
      ]
    },
    {
      "cell_type": "code",
      "source": [
        "# 강사님께서 만드신 방법"
      ],
      "metadata": {
        "id": "1grZUVDOf6Cb"
      },
      "execution_count": null,
      "outputs": []
    },
    {
      "cell_type": "code",
      "source": [
        "# 0, 0, 0, 1, 1\n",
        "a = np.zeros(3, dtype='f')\n",
        "a"
      ],
      "metadata": {
        "colab": {
          "base_uri": "https://localhost:8080/"
        },
        "id": "DjasAWlggVKO",
        "outputId": "29744bdb-366b-49e4-af8d-3dd915a795ed"
      },
      "execution_count": null,
      "outputs": [
        {
          "output_type": "execute_result",
          "data": {
            "text/plain": [
              "array([0., 0., 0.], dtype=float32)"
            ]
          },
          "metadata": {},
          "execution_count": 69
        }
      ]
    },
    {
      "cell_type": "code",
      "source": [
        "b = np.ones(2, dtype='f')"
      ],
      "metadata": {
        "id": "Z82weZCvgWlW"
      },
      "execution_count": null,
      "outputs": []
    },
    {
      "cell_type": "code",
      "source": [
        "# c = np.r_[a, b]\n",
        "c = np.hstack([a, b])\n",
        "c"
      ],
      "metadata": {
        "colab": {
          "base_uri": "https://localhost:8080/"
        },
        "id": "ixYPEoJngYnl",
        "outputId": "47f6c3ec-fc1b-4b0d-c453-3c142ce3fa8b"
      },
      "execution_count": null,
      "outputs": [
        {
          "output_type": "execute_result",
          "data": {
            "text/plain": [
              "array([0., 0., 0., 1., 1.], dtype=float32)"
            ]
          },
          "metadata": {},
          "execution_count": 71
        }
      ]
    },
    {
      "cell_type": "code",
      "source": [
        "d = np.tile(c, (3, 1))\n",
        "d"
      ],
      "metadata": {
        "colab": {
          "base_uri": "https://localhost:8080/"
        },
        "id": "IRvr7g8wgbXm",
        "outputId": "1cab313b-7fc4-4309-83b4-06e32ffca6f7"
      },
      "execution_count": null,
      "outputs": [
        {
          "output_type": "execute_result",
          "data": {
            "text/plain": [
              "array([[0., 0., 0., 1., 1.],\n",
              "       [0., 0., 0., 1., 1.],\n",
              "       [0., 0., 0., 1., 1.]], dtype=float32)"
            ]
          },
          "metadata": {},
          "execution_count": 72
        }
      ]
    },
    {
      "cell_type": "code",
      "source": [
        "e = np.arange(10, 160, 10, dtype='f')\n",
        "e"
      ],
      "metadata": {
        "colab": {
          "base_uri": "https://localhost:8080/"
        },
        "id": "LrtUz6LBgdZQ",
        "outputId": "92baab1d-998e-4073-919e-421ae9ebcb18"
      },
      "execution_count": null,
      "outputs": [
        {
          "output_type": "execute_result",
          "data": {
            "text/plain": [
              "array([ 10.,  20.,  30.,  40.,  50.,  60.,  70.,  80.,  90., 100., 110.,\n",
              "       120., 130., 140., 150.], dtype=float32)"
            ]
          },
          "metadata": {},
          "execution_count": 73
        }
      ]
    },
    {
      "cell_type": "code",
      "source": [
        "f = e.reshape(3, -1)\n",
        "f"
      ],
      "metadata": {
        "colab": {
          "base_uri": "https://localhost:8080/"
        },
        "id": "9zXyokSMggjW",
        "outputId": "80875677-d1af-43d5-9fe7-1a2967e2490a"
      },
      "execution_count": null,
      "outputs": [
        {
          "output_type": "execute_result",
          "data": {
            "text/plain": [
              "array([[ 10.,  20.,  30.,  40.,  50.],\n",
              "       [ 60.,  70.,  80.,  90., 100.],\n",
              "       [110., 120., 130., 140., 150.]], dtype=float32)"
            ]
          },
          "metadata": {},
          "execution_count": 74
        }
      ]
    },
    {
      "cell_type": "markdown",
      "source": [
        "## 배열 분활"
      ],
      "metadata": {
        "id": "ucc9KC0rgO5t"
      }
    },
    {
      "cell_type": "code",
      "source": [
        "arr = np.arange(1, 7)\n",
        "arr"
      ],
      "metadata": {
        "colab": {
          "base_uri": "https://localhost:8080/"
        },
        "id": "AWLJsIqsgQxj",
        "outputId": "26510285-82e5-4d9d-9358-d29c8635dfbb"
      },
      "execution_count": null,
      "outputs": [
        {
          "output_type": "execute_result",
          "data": {
            "text/plain": [
              "array([1, 2, 3, 4, 5, 6])"
            ]
          },
          "metadata": {},
          "execution_count": 75
        }
      ]
    },
    {
      "cell_type": "code",
      "source": [
        "newarr = np.array_split(arr,3)\n",
        "newarr"
      ],
      "metadata": {
        "colab": {
          "base_uri": "https://localhost:8080/"
        },
        "id": "u8_fAwOmgj_6",
        "outputId": "e0ea7dd6-09db-42a4-efda-a29629f881b9"
      },
      "execution_count": null,
      "outputs": [
        {
          "output_type": "execute_result",
          "data": {
            "text/plain": [
              "[array([1, 2]), array([3, 4]), array([5, 6])]"
            ]
          },
          "metadata": {},
          "execution_count": 77
        }
      ]
    },
    {
      "cell_type": "code",
      "source": [
        "arr = np.arange(1, 13).reshape(-1, 3)\n",
        "arr"
      ],
      "metadata": {
        "colab": {
          "base_uri": "https://localhost:8080/"
        },
        "id": "_FrW28b2grOo",
        "outputId": "e5c0978f-2597-4208-f497-5996d16c19a9"
      },
      "execution_count": null,
      "outputs": [
        {
          "output_type": "execute_result",
          "data": {
            "text/plain": [
              "array([[ 1,  2,  3],\n",
              "       [ 4,  5,  6],\n",
              "       [ 7,  8,  9],\n",
              "       [10, 11, 12]])"
            ]
          },
          "metadata": {},
          "execution_count": 78
        }
      ]
    },
    {
      "cell_type": "code",
      "source": [
        "newarr = np.array_split(arr, 3, axis=1) # 열방향으로 분활\n",
        "newarr"
      ],
      "metadata": {
        "colab": {
          "base_uri": "https://localhost:8080/"
        },
        "id": "DduTH7wTgz0v",
        "outputId": "d65e4ae7-9c80-4bde-d699-ab7175b0d9a2"
      },
      "execution_count": null,
      "outputs": [
        {
          "output_type": "execute_result",
          "data": {
            "text/plain": [
              "[array([[ 1],\n",
              "        [ 4],\n",
              "        [ 7],\n",
              "        [10]]), array([[ 2],\n",
              "        [ 5],\n",
              "        [ 8],\n",
              "        [11]]), array([[ 3],\n",
              "        [ 6],\n",
              "        [ 9],\n",
              "        [12]])]"
            ]
          },
          "metadata": {},
          "execution_count": 79
        }
      ]
    },
    {
      "cell_type": "code",
      "source": [
        "np.hsplit(arr,3)"
      ],
      "metadata": {
        "colab": {
          "base_uri": "https://localhost:8080/"
        },
        "id": "jmhIbL8Bg5EZ",
        "outputId": "122bde26-bfa6-46bd-c956-691810b86779"
      },
      "execution_count": null,
      "outputs": [
        {
          "output_type": "execute_result",
          "data": {
            "text/plain": [
              "[array([[ 1],\n",
              "        [ 4],\n",
              "        [ 7],\n",
              "        [10]]), array([[ 2],\n",
              "        [ 5],\n",
              "        [ 8],\n",
              "        [11]]), array([[ 3],\n",
              "        [ 6],\n",
              "        [ 9],\n",
              "        [12]])]"
            ]
          },
          "metadata": {},
          "execution_count": 80
        }
      ]
    },
    {
      "cell_type": "code",
      "source": [
        "# np.hsplit(arr, n), np.vsplit(arr, n), np.dsplit(arr, 3) -> 쪼개줄 방향 / 몇개 쪼갤지"
      ],
      "metadata": {
        "id": "8zDQsaoNhF_e"
      },
      "execution_count": null,
      "outputs": []
    },
    {
      "cell_type": "code",
      "source": [
        "np.vsplit(arr,3)"
      ],
      "metadata": {
        "colab": {
          "base_uri": "https://localhost:8080/",
          "height": 401
        },
        "id": "f3tcZG1Qg9Mo",
        "outputId": "b3fd4f59-4444-46f7-9ea8-f71ae29b9a65"
      },
      "execution_count": null,
      "outputs": [
        {
          "output_type": "error",
          "ename": "ValueError",
          "evalue": "ignored",
          "traceback": [
            "\u001b[0;31m---------------------------------------------------------------------------\u001b[0m",
            "\u001b[0;31mValueError\u001b[0m                                Traceback (most recent call last)",
            "\u001b[0;32m<ipython-input-81-83113798af24>\u001b[0m in \u001b[0;36m<module>\u001b[0;34m\u001b[0m\n\u001b[0;32m----> 1\u001b[0;31m \u001b[0mnp\u001b[0m\u001b[0;34m.\u001b[0m\u001b[0mvsplit\u001b[0m\u001b[0;34m(\u001b[0m\u001b[0marr\u001b[0m\u001b[0;34m,\u001b[0m\u001b[0;36m3\u001b[0m\u001b[0;34m)\u001b[0m\u001b[0;34m\u001b[0m\u001b[0;34m\u001b[0m\u001b[0m\n\u001b[0m",
            "\u001b[0;32m<__array_function__ internals>\u001b[0m in \u001b[0;36mvsplit\u001b[0;34m(*args, **kwargs)\u001b[0m\n",
            "\u001b[0;32m/usr/local/lib/python3.8/dist-packages/numpy/lib/shape_base.py\u001b[0m in \u001b[0;36mvsplit\u001b[0;34m(ary, indices_or_sections)\u001b[0m\n\u001b[1;32m    989\u001b[0m     \u001b[0;32mif\u001b[0m \u001b[0m_nx\u001b[0m\u001b[0;34m.\u001b[0m\u001b[0mndim\u001b[0m\u001b[0;34m(\u001b[0m\u001b[0mary\u001b[0m\u001b[0;34m)\u001b[0m \u001b[0;34m<\u001b[0m \u001b[0;36m2\u001b[0m\u001b[0;34m:\u001b[0m\u001b[0;34m\u001b[0m\u001b[0;34m\u001b[0m\u001b[0m\n\u001b[1;32m    990\u001b[0m         \u001b[0;32mraise\u001b[0m \u001b[0mValueError\u001b[0m\u001b[0;34m(\u001b[0m\u001b[0;34m'vsplit only works on arrays of 2 or more dimensions'\u001b[0m\u001b[0;34m)\u001b[0m\u001b[0;34m\u001b[0m\u001b[0;34m\u001b[0m\u001b[0m\n\u001b[0;32m--> 991\u001b[0;31m     \u001b[0;32mreturn\u001b[0m \u001b[0msplit\u001b[0m\u001b[0;34m(\u001b[0m\u001b[0mary\u001b[0m\u001b[0;34m,\u001b[0m \u001b[0mindices_or_sections\u001b[0m\u001b[0;34m,\u001b[0m \u001b[0;36m0\u001b[0m\u001b[0;34m)\u001b[0m\u001b[0;34m\u001b[0m\u001b[0;34m\u001b[0m\u001b[0m\n\u001b[0m\u001b[1;32m    992\u001b[0m \u001b[0;34m\u001b[0m\u001b[0m\n\u001b[1;32m    993\u001b[0m \u001b[0;34m\u001b[0m\u001b[0m\n",
            "\u001b[0;32m<__array_function__ internals>\u001b[0m in \u001b[0;36msplit\u001b[0;34m(*args, **kwargs)\u001b[0m\n",
            "\u001b[0;32m/usr/local/lib/python3.8/dist-packages/numpy/lib/shape_base.py\u001b[0m in \u001b[0;36msplit\u001b[0;34m(ary, indices_or_sections, axis)\u001b[0m\n\u001b[1;32m    870\u001b[0m         \u001b[0mN\u001b[0m \u001b[0;34m=\u001b[0m \u001b[0mary\u001b[0m\u001b[0;34m.\u001b[0m\u001b[0mshape\u001b[0m\u001b[0;34m[\u001b[0m\u001b[0maxis\u001b[0m\u001b[0;34m]\u001b[0m\u001b[0;34m\u001b[0m\u001b[0;34m\u001b[0m\u001b[0m\n\u001b[1;32m    871\u001b[0m         \u001b[0;32mif\u001b[0m \u001b[0mN\u001b[0m \u001b[0;34m%\u001b[0m \u001b[0msections\u001b[0m\u001b[0;34m:\u001b[0m\u001b[0;34m\u001b[0m\u001b[0;34m\u001b[0m\u001b[0m\n\u001b[0;32m--> 872\u001b[0;31m             raise ValueError(\n\u001b[0m\u001b[1;32m    873\u001b[0m                 'array split does not result in an equal division') from None\n\u001b[1;32m    874\u001b[0m     \u001b[0;32mreturn\u001b[0m \u001b[0marray_split\u001b[0m\u001b[0;34m(\u001b[0m\u001b[0mary\u001b[0m\u001b[0;34m,\u001b[0m \u001b[0mindices_or_sections\u001b[0m\u001b[0;34m,\u001b[0m \u001b[0maxis\u001b[0m\u001b[0;34m)\u001b[0m\u001b[0;34m\u001b[0m\u001b[0;34m\u001b[0m\u001b[0m\n",
            "\u001b[0;31mValueError\u001b[0m: array split does not result in an equal division"
          ]
        }
      ]
    },
    {
      "cell_type": "code",
      "source": [
        "np.dsplit(arr,3)"
      ],
      "metadata": {
        "colab": {
          "base_uri": "https://localhost:8080/",
          "height": 340
        },
        "id": "lSvppG3Ug_cR",
        "outputId": "01af6f59-5123-4f68-e9cd-15550d7952eb"
      },
      "execution_count": null,
      "outputs": [
        {
          "output_type": "error",
          "ename": "ValueError",
          "evalue": "ignored",
          "traceback": [
            "\u001b[0;31m---------------------------------------------------------------------------\u001b[0m",
            "\u001b[0;31mValueError\u001b[0m                                Traceback (most recent call last)",
            "\u001b[0;32m<ipython-input-82-17532c6c8475>\u001b[0m in \u001b[0;36m<module>\u001b[0;34m\u001b[0m\n\u001b[0;32m----> 1\u001b[0;31m \u001b[0mnp\u001b[0m\u001b[0;34m.\u001b[0m\u001b[0mdsplit\u001b[0m\u001b[0;34m(\u001b[0m\u001b[0marr\u001b[0m\u001b[0;34m,\u001b[0m\u001b[0;36m3\u001b[0m\u001b[0;34m)\u001b[0m\u001b[0;34m\u001b[0m\u001b[0;34m\u001b[0m\u001b[0m\n\u001b[0m",
            "\u001b[0;32m<__array_function__ internals>\u001b[0m in \u001b[0;36mdsplit\u001b[0;34m(*args, **kwargs)\u001b[0m\n",
            "\u001b[0;32m/usr/local/lib/python3.8/dist-packages/numpy/lib/shape_base.py\u001b[0m in \u001b[0;36mdsplit\u001b[0;34m(ary, indices_or_sections)\u001b[0m\n\u001b[1;32m   1033\u001b[0m     \"\"\"\n\u001b[1;32m   1034\u001b[0m     \u001b[0;32mif\u001b[0m \u001b[0m_nx\u001b[0m\u001b[0;34m.\u001b[0m\u001b[0mndim\u001b[0m\u001b[0;34m(\u001b[0m\u001b[0mary\u001b[0m\u001b[0;34m)\u001b[0m \u001b[0;34m<\u001b[0m \u001b[0;36m3\u001b[0m\u001b[0;34m:\u001b[0m\u001b[0;34m\u001b[0m\u001b[0;34m\u001b[0m\u001b[0m\n\u001b[0;32m-> 1035\u001b[0;31m         \u001b[0;32mraise\u001b[0m \u001b[0mValueError\u001b[0m\u001b[0;34m(\u001b[0m\u001b[0;34m'dsplit only works on arrays of 3 or more dimensions'\u001b[0m\u001b[0;34m)\u001b[0m\u001b[0;34m\u001b[0m\u001b[0;34m\u001b[0m\u001b[0m\n\u001b[0m\u001b[1;32m   1036\u001b[0m     \u001b[0;32mreturn\u001b[0m \u001b[0msplit\u001b[0m\u001b[0;34m(\u001b[0m\u001b[0mary\u001b[0m\u001b[0;34m,\u001b[0m \u001b[0mindices_or_sections\u001b[0m\u001b[0;34m,\u001b[0m \u001b[0;36m2\u001b[0m\u001b[0;34m)\u001b[0m\u001b[0;34m\u001b[0m\u001b[0;34m\u001b[0m\u001b[0m\n\u001b[1;32m   1037\u001b[0m \u001b[0;34m\u001b[0m\u001b[0m\n",
            "\u001b[0;31mValueError\u001b[0m: dsplit only works on arrays of 3 or more dimensions"
          ]
        }
      ]
    },
    {
      "cell_type": "markdown",
      "source": [
        "## 2차원 그리드 포인트 생성\n",
        "* 변수가 2개인 2차원 함수 (x, y) 그래프를 그리거나 표를 작성하거나 할 때 2개의 좌표값 쌍 -> **grid point** (그리드포인트) -> 각 좌표에 대한 함수 값을 계산해야함\n",
        "<br>\n",
        "$\n",
        "(x, y) = (0,0),(0,1),(0,2),(0,3),(0,4),(1,0),\\cdots(2,4)\n",
        "$"
      ],
      "metadata": {
        "id": "wc4BJleJhTcn"
      }
    },
    {
      "cell_type": "code",
      "source": [],
      "metadata": {
        "id": "2_MLu5hchEPa"
      },
      "execution_count": null,
      "outputs": []
    },
    {
      "cell_type": "markdown",
      "source": [
        "* `meshgrid` : 사각형 영역을 구성하는 가로축의 점들과 세로축의 점들을 나타내는 두 벡터를 인수로 받아서 이 사각형 영역을 이루는 조합 출력\n",
        "=> x,y 좌표쌍들을 출력\n",
        "* 결과 : 그리드 포인트의 x값만을 표시하는 행렬과 y갑"
      ],
      "metadata": {
        "id": "49J6aOBthxMu"
      }
    },
    {
      "cell_type": "code",
      "source": [
        "x = np.arange(3)\n",
        "x"
      ],
      "metadata": {
        "colab": {
          "base_uri": "https://localhost:8080/"
        },
        "id": "39JQmsfth8wc",
        "outputId": "ba807fa7-7297-41a2-cfe5-4f3f8de55d33"
      },
      "execution_count": null,
      "outputs": [
        {
          "output_type": "execute_result",
          "data": {
            "text/plain": [
              "array([0, 1, 2])"
            ]
          },
          "metadata": {},
          "execution_count": 83
        }
      ]
    },
    {
      "cell_type": "code",
      "source": [
        "y=np.arange(5)\n",
        "y"
      ],
      "metadata": {
        "colab": {
          "base_uri": "https://localhost:8080/"
        },
        "id": "60RuN5Q6iBbT",
        "outputId": "4cfd15ab-a516-4ecb-b683-ab40d7fede52"
      },
      "execution_count": null,
      "outputs": [
        {
          "output_type": "execute_result",
          "data": {
            "text/plain": [
              "array([0, 1, 2, 3, 4])"
            ]
          },
          "metadata": {},
          "execution_count": 84
        }
      ]
    },
    {
      "cell_type": "code",
      "source": [
        "X, Y = np.meshgrid(x,y)"
      ],
      "metadata": {
        "id": "XvLCNt2kiDym"
      },
      "execution_count": null,
      "outputs": []
    },
    {
      "cell_type": "code",
      "source": [
        "X"
      ],
      "metadata": {
        "colab": {
          "base_uri": "https://localhost:8080/"
        },
        "id": "imzjxNvyiOOU",
        "outputId": "2bacdc30-46e3-4164-db17-e269c8d1ebf5"
      },
      "execution_count": null,
      "outputs": [
        {
          "output_type": "execute_result",
          "data": {
            "text/plain": [
              "array([[0, 1, 2],\n",
              "       [0, 1, 2],\n",
              "       [0, 1, 2],\n",
              "       [0, 1, 2],\n",
              "       [0, 1, 2]])"
            ]
          },
          "metadata": {},
          "execution_count": 86
        }
      ]
    },
    {
      "cell_type": "code",
      "source": [
        "Y"
      ],
      "metadata": {
        "colab": {
          "base_uri": "https://localhost:8080/"
        },
        "id": "rPm8GJOWiO9m",
        "outputId": "ea5cfb56-6a04-4966-e3f6-f2c5029cc8f4"
      },
      "execution_count": null,
      "outputs": [
        {
          "output_type": "execute_result",
          "data": {
            "text/plain": [
              "array([[0, 0, 0],\n",
              "       [1, 1, 1],\n",
              "       [2, 2, 2],\n",
              "       [3, 3, 3],\n",
              "       [4, 4, 4]])"
            ]
          },
          "metadata": {},
          "execution_count": 87
        }
      ]
    },
    {
      "cell_type": "code",
      "source": [
        "for x, y in zip(X, Y):\n",
        "  print(list(zip(x,y)))"
      ],
      "metadata": {
        "colab": {
          "base_uri": "https://localhost:8080/"
        },
        "id": "Od8sIxvPiPXK",
        "outputId": "ca563a6b-8eea-4e8e-d614-56d3ba1c3bc6"
      },
      "execution_count": null,
      "outputs": [
        {
          "output_type": "stream",
          "name": "stdout",
          "text": [
            "[(0, 0), (1, 0), (2, 0)]\n",
            "[(0, 1), (1, 1), (2, 1)]\n",
            "[(0, 2), (1, 2), (2, 2)]\n",
            "[(0, 3), (1, 3), (2, 3)]\n",
            "[(0, 4), (1, 4), (2, 4)]\n"
          ]
        }
      ]
    },
    {
      "cell_type": "code",
      "source": [
        "[list(zip(x, y)) for x, y in zip(X, Y)]"
      ],
      "metadata": {
        "colab": {
          "base_uri": "https://localhost:8080/"
        },
        "id": "mdH-1yD4ifil",
        "outputId": "95993bbb-b35f-4ad7-e17a-edece4954b13"
      },
      "execution_count": null,
      "outputs": [
        {
          "output_type": "execute_result",
          "data": {
            "text/plain": [
              "[[(0, 0), (1, 0), (2, 0)],\n",
              " [(0, 1), (1, 1), (2, 1)],\n",
              " [(0, 2), (1, 2), (2, 2)],\n",
              " [(0, 3), (1, 3), (2, 3)],\n",
              " [(0, 4), (1, 4), (2, 4)]]"
            ]
          },
          "metadata": {},
          "execution_count": 89
        }
      ]
    },
    {
      "cell_type": "code",
      "source": [],
      "metadata": {
        "id": "VIxtrbzAilIT"
      },
      "execution_count": null,
      "outputs": []
    }
  ]
}