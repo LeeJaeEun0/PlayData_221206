{
 "cells": [
  {
   "cell_type": "markdown",
   "id": "1b864726",
   "metadata": {},
   "source": [
    "## Numpy 복습\n",
    "* Numpy 패키지/ 라이브러리\n",
    "* 배열(Array) <=> 리스트(List)\n",
    "* 리스트: 파이썬 기본 자료형\n",
    "    * 여러개의(0개 이상)데이터들을 묶어서 표현\n",
    "    * 인덱스(위치 주소값), 호출+ 슬라이싱(리스트의 부분 집합)\n",
    "    * 속도와 메모리의 효율성이 떨어짐\n",
    "    * 길이가 가변적이고 원소 넣는 타입이 고정적이지 않음\n",
    "* 배열(Array, ndarray)\n",
    "    * 길이가 고정적이고 원소 타입도 고정(만들때 선언을 통해 고정한다!)"
   ]
  },
  {
   "cell_type": "code",
   "execution_count": 1,
   "id": "fa246938",
   "metadata": {},
   "outputs": [],
   "source": [
    "#pip install numpy\n",
    "#!pip install numpy # 터미널 기능 호출\n",
    "import numpy as np # numpy를 약어로 np로 사용하기 위해 as를 사용"
   ]
  },
  {
   "cell_type": "markdown",
   "id": "c1c8b3e9",
   "metadata": {},
   "source": [
    "## 1차원 배열\n",
    "1. 축이 1개인 배열로 리스트나 튜플처럼 한줄로 이루어져 있음\n",
    "2. np.array([...]) # 한줄짜리 리스트\n",
    "    np.array([1,2,3,4,5])"
   ]
  },
  {
   "cell_type": "markdown",
   "id": "15941dfc",
   "metadata": {},
   "source": [
    "## 백터화 연산\n",
    "1. 리스트는 연산이 안됨 (리스트에서 +(더하기)는 리스트의 개수가 증가)\n",
    "    a+1 리스트에서 덧셈은 같은 리스트끼리만 가능\n",
    "    리스트에서의 덧셈은 같은 리스트만 가능하고, 그것은 '연결'을 의미함\n",
    "    리스트에서의 곱셈은 정수만 가능하고, 해당 리스트를 n 배 반복하겠음\n",
    "    즉, 벡터화 연산은 리스트에서 할 수 없다.\n",
    "    \n",
    "2. <b>`배열은 원소의 연산이 가능하다`<b>\n",
    "    사칙(산술) 연산 가능, 논리연산, 비교연산 등 가능"
   ]
  },
  {
   "cell_type": "markdown",
   "id": "e18a96cd",
   "metadata": {},
   "source": [
    "## 2차원 배열\n",
    "가로줄: 행(row)\n",
    "세로줄: 열(column)\n",
    "np.array([[...] ... ]) #리스트의 리스트\n",
    "같은 열의 수!"
   ]
  },
  {
   "cell_type": "markdown",
   "id": "d78129e0",
   "metadata": {},
   "source": [
    "## 3차원 배열\n",
    "np.array([[[...]...] ... ]) #리스트의 리스트의 리스트"
   ]
  },
  {
   "cell_type": "markdown",
   "id": "d2991aec",
   "metadata": {},
   "source": [
    "## 배열의 차원과 크기\n",
    "\n",
    "arr.ndim  차원의 수 ex) 1,2,3 ...\n",
    "shape  배열의 모양 ex) (3,),(2,3), (2,3,4) ..."
   ]
  },
  {
   "cell_type": "markdown",
   "id": "15bd4473",
   "metadata": {},
   "source": [
    "## 중간정리\n",
    "|배열|사용법|메소드or속성|비고|\n",
    "|-|-|-|-|\n",
    "|배열의 생성|np.array(data)|메소드|data: 배열로 만들어주려는 리스트|\n",
    "|배열의 차원 수|arr.ndim|속성||\n",
    "|배열의 모양|arr.shape|속성||\n",
    "\n",
    "np = numpy<br>\n",
    "arr = numpy로 만들어진 ndarray객체(배열)"
   ]
  },
  {
   "cell_type": "markdown",
   "id": "296ade89",
   "metadata": {},
   "source": [
    "## 배열의 인덱싱과 슬라이싱\n",
    "1. index + ing -> 인덱스를 사용해서 특정 위치의 값을 호출해주거나 해당 위치에 값을 넣음"
   ]
  },
  {
   "cell_type": "code",
   "execution_count": 2,
   "id": "ea279926",
   "metadata": {},
   "outputs": [
    {
     "data": {
      "text/plain": [
       "3"
      ]
     },
     "execution_count": 2,
     "metadata": {},
     "output_type": "execute_result"
    }
   ],
   "source": [
    "a = [1, 2, 3, 4, 5] # idx : 0 ~ 4\n",
    "a[2] # a => 3을 가져오고 싶다\n",
    "a[-3] # 뒤에서 3번째 "
   ]
  },
  {
   "cell_type": "markdown",
   "id": "56c0fc01",
   "metadata": {},
   "source": [
    "일차원 배열 인덱싱"
   ]
  },
  {
   "cell_type": "code",
   "execution_count": 3,
   "id": "c001acad",
   "metadata": {},
   "outputs": [
    {
     "data": {
      "text/plain": [
       "(2, 4)"
      ]
     },
     "execution_count": 3,
     "metadata": {},
     "output_type": "execute_result"
    }
   ],
   "source": [
    "a = np.array([0, 1, 2, 3, 4])\n",
    "a[2], a[-1] # (2, 4)"
   ]
  },
  {
   "cell_type": "markdown",
   "id": "ddc30934",
   "metadata": {},
   "source": [
    "이차원 배열 인덱싱\n",
    "- `,` (콤마) : 위치에 접근\n",
    "- 차원 = 축 -> 콤마로 한다 / 그래프의 x축, y축"
   ]
  },
  {
   "cell_type": "markdown",
   "id": "fbb528f8",
   "metadata": {},
   "source": [
    "||0행|1열|2열|3열|\n",
    "|-|-|-|-|-|\n",
    "|0행|(0,0)|(0,1)|(0,2)|(0,3)|\n",
    "|1행|(1,0)|(1,1)|(1,2)|(1,3)|\n",
    "|2행|(2,0)|(2,1)|(2,2)|(2,3)|\n",
    "|3행|(3,1)|(3,2)|(3,3)|(3,4)|"
   ]
  },
  {
   "cell_type": "code",
   "execution_count": 5,
   "id": "3c09bd07",
   "metadata": {},
   "outputs": [
    {
     "data": {
      "text/plain": [
       "5"
      ]
     },
     "execution_count": 5,
     "metadata": {},
     "output_type": "execute_result"
    }
   ],
   "source": [
    "#             0열 1열 2열\n",
    "b = np.array([[0, 1, 2], # 0행\n",
    "              [3, 4, 5]]) # 1행\n",
    "b[0, 0] # 첫(0)번째 행의 첫(0)번째 열"
   ]
  },
  {
   "cell_type": "code",
   "execution_count": 6,
   "id": "d60761e7",
   "metadata": {},
   "outputs": [
    {
     "data": {
      "text/plain": [
       "1"
      ]
     },
     "execution_count": 6,
     "metadata": {},
     "output_type": "execute_result"
    }
   ],
   "source": [
    "b[0, 1] # 첫번째 행의 두번째 열"
   ]
  },
  {
   "cell_type": "code",
   "execution_count": 7,
   "id": "6b49a7c3",
   "metadata": {},
   "outputs": [
    {
     "data": {
      "text/plain": [
       "5"
      ]
     },
     "execution_count": 7,
     "metadata": {},
     "output_type": "execute_result"
    }
   ],
   "source": [
    "b[-1, -1] # 마지막 행의 마지막 열"
   ]
  },
  {
   "cell_type": "markdown",
   "id": "a9d2311b",
   "metadata": {},
   "source": [
    "## 배열의 복사\n",
    "1. 얕은 복사\n",
    "    np.view()는 얕은 복사를 하는 메소드, 연결된 관계가 유지되어서 생기는 문제(데이터가 아닌 주소를 가르켜서 생기는 문제)\n",
    "2. 깊은 복사\n",
    "    np.copy()는 깊은 복사를 하는 메소드, 연결된 관계를 끊는 복사"
   ]
  },
  {
   "cell_type": "markdown",
   "id": "c23fe831",
   "metadata": {},
   "source": [
    "## 슬라이싱\n",
    "1. 부분 집합 -> 인데스들을 범위로 사용함"
   ]
  },
  {
   "cell_type": "code",
   "execution_count": 11,
   "id": "458b5590",
   "metadata": {},
   "outputs": [
    {
     "data": {
      "text/plain": [
       "array([0, 1, 2, 3])"
      ]
     },
     "execution_count": 11,
     "metadata": {},
     "output_type": "execute_result"
    }
   ],
   "source": [
    "\n",
    "a = np.array([[0, 1, 2, 3], [4, 5, 6, 7]])\n",
    "\n",
    "a[0, :] # 첫번째 행 전체 (: = 콜론, 전체)\n",
    "# array([0, 1, 2, 3])\n",
    "# 연습문제 다시 풀어보기"
   ]
  },
  {
   "cell_type": "markdown",
   "id": "66b69886",
   "metadata": {},
   "source": [
    "## 배열 인덱싱\n",
    "* 배열의 인덱싱 != 배열의 배열의 인덱싱(1차원 배열의 인덱싱과 2차원배열의 인덱싱이 다른다?????????)\n",
    "* 인덱싱을 할때 정수값을 넣는다 -> 대신에 배열(bool, 정수 인덱스) -> 인덱싱\n",
    "\n",
    "    arr[idx] = [...] # 필터링, 스크리닝 -> 검색<br>\n",
    "    idx는 bool (참/거짓) 또는 정수 인덱스로 이루어진 배열"
   ]
  },
  {
   "cell_type": "markdown",
   "id": "a03ffacb",
   "metadata": {},
   "source": [
    "#### 불리언 배열 인덱싱 : 원본 배열과 동일한 크기의 bool로 이루어진 배열 <br>\n",
    "    → True 남기고, False는 지워줌\n",
    "   벡터화 연산 → 비교연산, 논리연산 → 불리언 배열 → [] 넣으면? → 필터링 \n",
    "#### 정수 배열 인덱싱 → 배열 안의 값은 정수 라벨(인덱스) → 호출을 해서 그것들로 부분집합\n",
    "    정수 인덱스는 1번 ‘이상’ 호출이 가능하다\n",
    "#### 배열의 검색 - 알면 좋다"
   ]
  },
  {
   "cell_type": "markdown",
   "id": "14450a5d",
   "metadata": {},
   "source": [
    "## 배열의 인덱싱과 슬라이싱\n",
    "||0행|\n",
    "|-|-|\n",
    "|콤마 ,|사용하자 하는 차원을 구분|\n",
    "|콜론 :|전체 범위를 의미, 앞 뒤에 인덱스를 넣어서 특정 범위로 한정|\n",
    "|arr[bool_arr] 불리언 배열 인덱싱|True만 남기도 False는 생략해주겠다 → 필터링|\n",
    "|arr.copy()|깊은 복사가 가능 (메소드)|"
   ]
  },
  {
   "cell_type": "markdown",
   "id": "32b99fa6",
   "metadata": {},
   "source": [
    "##  배열의 생성과 변형\n",
    "### 자료형\n",
    "1. data-type\n",
    "2. 배열은 통일된 자료형을 가진다.\n",
    "\n",
    "    arr.dtype # 배열의 자료형\n",
    "    o, i, f정도 사용"
   ]
  },
  {
   "cell_type": "markdown",
   "id": "72ba58f9",
   "metadata": {},
   "source": [
    "|dtype 접두사|설명|사용 예|\n",
    "|-|-|-|\n",
    "|`b`|불리언|`b` (참 혹은 거짓)|\n",
    "|`i`|정수|`i8` (64비트)|\n",
    "|`u`|부호 없는 정수|`u8` (64비트)|\n",
    "|`f`|부동소수점|`f8` (64비트)|\n",
    "|`c`|복소 부동소수점|`c16` (128비트)|\n",
    "|`O`|객체|`0` (객체에 대한 포인터)|\n",
    "|`S`|바이트 문자열|`S24` (24 글자)|\n",
    "|`U`|유니코드 문자열|`U24` (24 유니코드 글자)|"
   ]
  },
  {
   "cell_type": "markdown",
   "id": "138e6707",
   "metadata": {},
   "source": [
    "### Inf(무한)  NaN(not a number)\n",
    "* Inf: 무한대(infinity) -inf도 가능!\n",
    "* nan: 숫자가 아니다 = 정의할 수 없는 숫자 = 계산을 할 수 없다\n",
    "cf. 데이터베이스 null과 다름 - nan은 계산 불가임"
   ]
  },
  {
   "cell_type": "markdown",
   "id": "6935fb28",
   "metadata": {},
   "source": [
    "### 배열 생성\n",
    "* `np.array(리스트)`\n",
    "*  `np.zeros(n)` # n의 크기를 가진 배열에 0으로 채움 ex) 덧셈 누적 등"
   ]
  },
  {
   "cell_type": "code",
   "execution_count": 12,
   "id": "9bd7e814",
   "metadata": {},
   "outputs": [
    {
     "data": {
      "text/plain": [
       "array([0., 0., 0., 0., 0.])"
      ]
     },
     "execution_count": 12,
     "metadata": {},
     "output_type": "execute_result"
    }
   ],
   "source": [
    "np.zeros(5)"
   ]
  },
  {
   "cell_type": "code",
   "execution_count": 13,
   "id": "2d40e4d6",
   "metadata": {},
   "outputs": [
    {
     "data": {
      "text/plain": [
       "array([[0., 0., 0.],\n",
       "       [0., 0., 0.]])"
      ]
     },
     "execution_count": 13,
     "metadata": {},
     "output_type": "execute_result"
    }
   ],
   "source": [
    "np.zeros((2,3)) "
   ]
  },
  {
   "cell_type": "markdown",
   "id": "03a84efd",
   "metadata": {},
   "source": [
    "*  `np.ones(n)` # n의 크기를 가진 배열에 1으로 채움 ex) 곱하기 등"
   ]
  },
  {
   "cell_type": "code",
   "execution_count": 14,
   "id": "8cecd18a",
   "metadata": {},
   "outputs": [
    {
     "data": {
      "text/plain": [
       "array([[[1, 1, 1, 1],\n",
       "        [1, 1, 1, 1],\n",
       "        [1, 1, 1, 1]],\n",
       "\n",
       "       [[1, 1, 1, 1],\n",
       "        [1, 1, 1, 1],\n",
       "        [1, 1, 1, 1]]], dtype=int64)"
      ]
     },
     "execution_count": 14,
     "metadata": {},
     "output_type": "execute_result"
    }
   ],
   "source": [
    "np.ones((2,3,4),dtype='i8')"
   ]
  },
  {
   "cell_type": "markdown",
   "id": "7690cdb7",
   "metadata": {},
   "source": [
    "`np.empty(배열의 모양)` 모양만 잡을때 사용"
   ]
  },
  {
   "cell_type": "code",
   "execution_count": 15,
   "id": "8354ec0d",
   "metadata": {},
   "outputs": [
    {
     "data": {
      "text/plain": [
       "array([[1.40585611e-311, 3.16202013e-322, 0.00000000e+000],\n",
       "       [0.00000000e+000, 1.14587773e-312, 5.69747499e-038],\n",
       "       [1.51872253e-047, 1.19028781e-047, 3.21940698e-057],\n",
       "       [5.64928291e-038, 2.31786463e-052, 4.04553373e-037]])"
      ]
     },
     "execution_count": 15,
     "metadata": {},
     "output_type": "execute_result"
    }
   ],
   "source": [
    "np.empty((4,3))"
   ]
  },
  {
   "cell_type": "markdown",
   "id": "bfe3b942",
   "metadata": {},
   "source": [
    "`np.arrange(...)`\n",
    "파이썬의 range 함수와 유사"
   ]
  },
  {
   "cell_type": "code",
   "execution_count": 16,
   "id": "5ee4ec61",
   "metadata": {},
   "outputs": [
    {
     "data": {
      "text/plain": [
       "array([0, 1, 2, 3, 4, 5, 6, 7, 8, 9])"
      ]
     },
     "execution_count": 16,
     "metadata": {},
     "output_type": "execute_result"
    }
   ],
   "source": [
    "np.arange(10)"
   ]
  },
  {
   "cell_type": "code",
   "execution_count": 17,
   "id": "8cab20f9",
   "metadata": {},
   "outputs": [
    {
     "data": {
      "text/plain": [
       "array([ 3,  5,  7,  9, 11, 13, 15, 17, 19])"
      ]
     },
     "execution_count": 17,
     "metadata": {},
     "output_type": "execute_result"
    }
   ],
   "source": [
    "np.arange(3, 21, 2) # 시작(포함), 끝(제외), 단계"
   ]
  },
  {
   "cell_type": "markdown",
   "id": "92a48efd",
   "metadata": {},
   "source": [
    "`np.linspace(...)`\n",
    "1. 특정한 선형구간을 지정한 구간의 수만큼 분할\n",
    "2. 직선 구간 -> 그래프 그릴때 사용"
   ]
  },
  {
   "cell_type": "code",
   "execution_count": 18,
   "id": "cb92f577",
   "metadata": {},
   "outputs": [
    {
     "data": {
      "text/plain": [
       "array([  0.,  25.,  50.,  75., 100.])"
      ]
     },
     "execution_count": 18,
     "metadata": {},
     "output_type": "execute_result"
    }
   ],
   "source": [
    "np.linspace(0, 100, 5) # 시작(포함), 끝(포함), 구간수"
   ]
  },
  {
   "cell_type": "markdown",
   "id": "67e0d7db",
   "metadata": {},
   "source": [
    "# 배열의 변형\n",
    "전치연산(transpose)\n",
    "  * 2차원 배열에서 행과 열을 바꾸는 작업\n",
    "  * 배열의 `t`  속성\n",
    "  arr.T # 2차원 행렬 "
   ]
  },
  {
   "cell_type": "code",
   "execution_count": 19,
   "id": "885ee5a5",
   "metadata": {},
   "outputs": [
    {
     "data": {
      "text/plain": [
       "(array([[1, 2, 3],\n",
       "        [4, 5, 6]]),\n",
       " (2, 3))"
      ]
     },
     "execution_count": 19,
     "metadata": {},
     "output_type": "execute_result"
    }
   ],
   "source": [
    "A = np.array([[1,2,3],[4,5,6]])\n",
    "A, A.shape # 2 x 3"
   ]
  },
  {
   "cell_type": "code",
   "execution_count": 20,
   "id": "0cd8a7f9",
   "metadata": {},
   "outputs": [
    {
     "data": {
      "text/plain": [
       "(array([[1, 4],\n",
       "        [2, 5],\n",
       "        [3, 6]]),\n",
       " (3, 2))"
      ]
     },
     "execution_count": 20,
     "metadata": {},
     "output_type": "execute_result"
    }
   ],
   "source": [
    "A.T, A.T.shape"
   ]
  },
  {
   "cell_type": "markdown",
   "id": "2ddbe9a6",
   "metadata": {},
   "source": [
    "## 배열의 크기 변형(reshape)"
   ]
  },
  {
   "cell_type": "code",
   "execution_count": 21,
   "id": "49cc5bb1",
   "metadata": {},
   "outputs": [
    {
     "data": {
      "text/plain": [
       "array([ 0,  1,  2,  3,  4,  5,  6,  7,  8,  9, 10, 11])"
      ]
     },
     "execution_count": 21,
     "metadata": {},
     "output_type": "execute_result"
    }
   ],
   "source": [
    "a = np.arange(12) # 1차원 배열\n",
    "a"
   ]
  },
  {
   "cell_type": "code",
   "execution_count": 22,
   "id": "8b5eadfc",
   "metadata": {},
   "outputs": [
    {
     "data": {
      "text/plain": [
       "array([[ 0,  1,  2,  3],\n",
       "       [ 4,  5,  6,  7],\n",
       "       [ 8,  9, 10, 11]])"
      ]
     },
     "execution_count": 22,
     "metadata": {},
     "output_type": "execute_result"
    }
   ],
   "source": [
    "b = a.reshape(3, 4) # 행이 3개 열이 4개로\n",
    "b"
   ]
  },
  {
   "cell_type": "markdown",
   "id": "050738c7",
   "metadata": {},
   "source": [
    "####  -1 : 전체의 원소 수 -> 2차원 1, 3차원 2 -> 1개 -> 연산"
   ]
  },
  {
   "cell_type": "code",
   "execution_count": 23,
   "id": "9dcdb3aa",
   "metadata": {},
   "outputs": [
    {
     "data": {
      "text/plain": [
       "array([[ 0,  1,  2,  3],\n",
       "       [ 4,  5,  6,  7],\n",
       "       [ 8,  9, 10, 11]])"
      ]
     },
     "execution_count": 23,
     "metadata": {},
     "output_type": "execute_result"
    }
   ],
   "source": [
    "a.reshape(3, -1) # 12 (12개를 3행으로 넣으려면 4열이 필요하지만 -1로 대신 가능)"
   ]
  },
  {
   "cell_type": "code",
   "execution_count": 24,
   "id": "600ed498",
   "metadata": {},
   "outputs": [
    {
     "data": {
      "text/plain": [
       "array([[ 0,  1,  2,  3],\n",
       "       [ 4,  5,  6,  7],\n",
       "       [ 8,  9, 10, 11]])"
      ]
     },
     "execution_count": 24,
     "metadata": {},
     "output_type": "execute_result"
    }
   ],
   "source": [
    "a.reshape(-1, 4) # (12개를 4열로 넣으려면 3행이 필요하지만 -1로 대신 표현가능)"
   ]
  },
  {
   "cell_type": "markdown",
   "id": "72ce4ab2",
   "metadata": {},
   "source": [
    "### 배열 평탄화(flatten, revel)\n",
    "* 2차원 이상의 다차원 배열을 1차원 배열로 변환(평평하게 만들어준다.)"
   ]
  },
  {
   "cell_type": "markdown",
   "id": "29def3b2",
   "metadata": {},
   "source": [
    "### 배열의 크기 변형과 평탄화를 반대라고 이해만 해보자(이해를 위해서)"
   ]
  },
  {
   "cell_type": "code",
   "execution_count": 25,
   "id": "7e5d0183",
   "metadata": {},
   "outputs": [
    {
     "data": {
      "text/plain": [
       "array([[ 0,  1,  2,  3],\n",
       "       [ 4,  5,  6,  7],\n",
       "       [ 8,  9, 10, 11]])"
      ]
     },
     "execution_count": 25,
     "metadata": {},
     "output_type": "execute_result"
    }
   ],
   "source": [
    "b"
   ]
  },
  {
   "cell_type": "code",
   "execution_count": 26,
   "id": "ebce31ab",
   "metadata": {},
   "outputs": [
    {
     "data": {
      "text/plain": [
       "array([ 0,  1,  2,  3,  4,  5,  6,  7,  8,  9, 10, 11])"
      ]
     },
     "execution_count": 26,
     "metadata": {},
     "output_type": "execute_result"
    }
   ],
   "source": [
    "b.flatten()"
   ]
  },
  {
   "cell_type": "markdown",
   "id": "97c0972b",
   "metadata": {},
   "source": [
    "### 같은 배열에 대해 차원만 1차원 증가(newaxis)"
   ]
  },
  {
   "cell_type": "code",
   "execution_count": 27,
   "id": "416feffc",
   "metadata": {},
   "outputs": [
    {
     "data": {
      "text/plain": [
       "array([0, 1, 2, 3, 4])"
      ]
     },
     "execution_count": 27,
     "metadata": {},
     "output_type": "execute_result"
    }
   ],
   "source": [
    "x = np.arange(5) # 1차원 배열의 원소\n",
    "x"
   ]
  },
  {
   "cell_type": "code",
   "execution_count": 28,
   "id": "6b3b9c91",
   "metadata": {},
   "outputs": [
    {
     "data": {
      "text/plain": [
       "array([[0],\n",
       "       [1],\n",
       "       [2],\n",
       "       [3],\n",
       "       [4]])"
      ]
     },
     "execution_count": 28,
     "metadata": {},
     "output_type": "execute_result"
    }
   ],
   "source": [
    "x[:, np.newaxis] # 2차원 배열로 만들어짐"
   ]
  }
 ],
 "metadata": {
  "kernelspec": {
   "display_name": "Python 3 (ipykernel)",
   "language": "python",
   "name": "python3"
  },
  "language_info": {
   "codemirror_mode": {
    "name": "ipython",
    "version": 3
   },
   "file_extension": ".py",
   "mimetype": "text/x-python",
   "name": "python",
   "nbconvert_exporter": "python",
   "pygments_lexer": "ipython3",
   "version": "3.9.13"
  }
 },
 "nbformat": 4,
 "nbformat_minor": 5
}
