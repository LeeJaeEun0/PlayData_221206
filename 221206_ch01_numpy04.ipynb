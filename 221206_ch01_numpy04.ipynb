{
  "nbformat": 4,
  "nbformat_minor": 0,
  "metadata": {
    "colab": {
      "provenance": [],
      "toc_visible": true
    },
    "kernelspec": {
      "name": "python3",
      "display_name": "Python 3"
    },
    "language_info": {
      "name": "python"
    }
  },
  "cells": [
    {
      "cell_type": "code",
      "execution_count": null,
      "metadata": {
        "id": "Pp5d2bocQ7fe"
      },
      "outputs": [],
      "source": [
        "import numpy as np"
      ]
    },
    {
      "cell_type": "markdown",
      "source": [
        "## 난수 발생과 카운트"
      ],
      "metadata": {
        "id": "UUaK9DprQ_fc"
      }
    },
    {
      "cell_type": "markdown",
      "source": [
        "* 난수? 임의의 수? 무작위 수?\n",
        "* 컴퓨터 프로그램에서 발생하는 무작위의 수는 실은 엄격한 의미의 무작위 수가 아님 = 진짜 랜덤으로 뽑는 것이 아니다\n",
        "* 어떠한 특정한 시작 숫자를 정해주면 컴퓨터가 정해진 알고리즘에 의해 마치 난수처럼 보이는 수열을 생성 -> 이러한 숫자를 시드(seed)라고 함"
      ],
      "metadata": {
        "id": "tB6ANNsbRD7G"
      }
    },
    {
      "cell_type": "markdown",
      "source": [
        "### 시드 설정"
      ],
      "metadata": {
        "id": "96SuArenQ8Xa"
      }
    },
    {
      "cell_type": "markdown",
      "source": [
        "* 일단 생성된 난수는 다음번 난수 생성을 위한 시드값이 됨\n",
        "* 시드값은 한 번만 정해주면 됨\n",
        "* 시드는 현재 시각 등으로 정해짐. 사람잉 수동으로 설정\n",
        "* 수동으로 설정하기 때문에 다음에 만들어진 난수는 모두 예측이 가능함\n",
        "* 고정된 결과를 얻기위해서는 실습때 **시드**를 설정"
      ],
      "metadata": {
        "id": "lsaoIMwvRgy3"
      }
    },
    {
      "cell_type": "code",
      "source": [
        "np.random.seed(0) # 시작되는 시드값이 고정!"
      ],
      "metadata": {
        "id": "v1QU6sNiR4ud"
      },
      "execution_count": null,
      "outputs": []
    },
    {
      "cell_type": "markdown",
      "source": [
        "### rand: 0과 1사이의 난수를 발생"
      ],
      "metadata": {
        "id": "vjNZGkSSSDtC"
      }
    },
    {
      "cell_type": "code",
      "source": [
        "np.random.rand(5) # np.random.rand(갯수) "
      ],
      "metadata": {
        "colab": {
          "base_uri": "https://localhost:8080/"
        },
        "id": "TKgOuwcOSY04",
        "outputId": "d233288f-a135-4cc8-a49e-da43d2fe072f"
      },
      "execution_count": null,
      "outputs": [
        {
          "output_type": "execute_result",
          "data": {
            "text/plain": [
              "array([0.5488135 , 0.71518937, 0.60276338, 0.54488318, 0.4236548 ])"
            ]
          },
          "metadata": {},
          "execution_count": 5
        }
      ]
    },
    {
      "cell_type": "code",
      "source": [
        "np.random.rand(10) # 넘파이로 고스톱 게임이나 카드 섞기 등가능, 블랙잭 만들기(구현이 쉬움)"
      ],
      "metadata": {
        "colab": {
          "base_uri": "https://localhost:8080/"
        },
        "id": "n5iR_d1BSa1i",
        "outputId": "f8b031a4-1386-47a1-8ece-3a0175dff35d"
      },
      "execution_count": null,
      "outputs": [
        {
          "output_type": "execute_result",
          "data": {
            "text/plain": [
              "array([0.64589411, 0.43758721, 0.891773  , 0.96366276, 0.38344152,\n",
              "       0.79172504, 0.52889492, 0.56804456, 0.92559664, 0.07103606])"
            ]
          },
          "metadata": {},
          "execution_count": 6
        }
      ]
    },
    {
      "cell_type": "markdown",
      "source": [
        "## 데이터의 순서 변경"
      ],
      "metadata": {
        "id": "vql2olaoSvQ_"
      }
    },
    {
      "cell_type": "markdown",
      "source": [
        "### `shuffle`\n",
        "* 데이터의 순서를 변경\n",
        "* 자체 변환 함수(in-place) => 원본에 영향"
      ],
      "metadata": {
        "id": "nzCirjtiSvZc"
      }
    },
    {
      "cell_type": "code",
      "source": [
        "x = np.arange(10)\n",
        "x"
      ],
      "metadata": {
        "colab": {
          "base_uri": "https://localhost:8080/"
        },
        "id": "pUI5QeAUSmLX",
        "outputId": "4b819322-33fa-4727-9d0b-01e72bb2e2cc"
      },
      "execution_count": null,
      "outputs": [
        {
          "output_type": "execute_result",
          "data": {
            "text/plain": [
              "array([0, 1, 2, 3, 4, 5, 6, 7, 8, 9])"
            ]
          },
          "metadata": {},
          "execution_count": 7
        }
      ]
    },
    {
      "cell_type": "code",
      "source": [
        "np.random.shuffle(x)\n",
        "x"
      ],
      "metadata": {
        "colab": {
          "base_uri": "https://localhost:8080/"
        },
        "id": "DcjnPpWnTMAk",
        "outputId": "2b33c3df-e049-40dc-d51a-46c1cd5287d5"
      },
      "execution_count": null,
      "outputs": [
        {
          "output_type": "execute_result",
          "data": {
            "text/plain": [
              "array([5, 1, 8, 2, 6, 7, 0, 3, 4, 9])"
            ]
          },
          "metadata": {},
          "execution_count": 8
        }
      ]
    },
    {
      "cell_type": "markdown",
      "source": [
        "## 데이터 샘플링\n",
        "* 표본 선택 혹은 샘플링(sampling): 이미 있는 데이터 집합에서 일부를 무작위로 선택하는 것"
      ],
      "metadata": {
        "id": "SZFM0dFqTNsP"
      }
    },
    {
      "cell_type": "markdown",
      "source": [
        "### `choice` : 샘플링에 사용\n",
        "* a : 배열이면 원래의 데이터, 정수이면 arange(a) 명령으로 데이터 생성\n",
        "* size : 정수. 샘플 숫자\n",
        "* replace : 불리언. True이면 한번 선택한 데이터를 다시 선택 가능 (복원/비복원 추출)\n",
        "* p : 배열. 각 데이터가 선택될 수 있는 확률\n",
        "```\n",
        "np.random.choice(a, size=None, replace=True, p=None)\n",
        "```"
      ],
      "metadata": {
        "id": "-7DVr7K_TcPG"
      }
    },
    {
      "cell_type": "code",
      "source": [
        "# np.random.choice(추출 대상이 될 배열, 추출할 사이즈, 복원 여부, 개별 확률)\n",
        "np.random.choice(5,5,replace=False)"
      ],
      "metadata": {
        "colab": {
          "base_uri": "https://localhost:8080/"
        },
        "id": "gRVQ7kTKTnDh",
        "outputId": "eff5eac9-e437-4d40-9e3d-d1dbc1252698"
      },
      "execution_count": null,
      "outputs": [
        {
          "output_type": "execute_result",
          "data": {
            "text/plain": [
              "array([3, 3, 2])"
            ]
          },
          "metadata": {},
          "execution_count": 12
        }
      ]
    },
    {
      "cell_type": "code",
      "source": [
        "np.random.choice(5,3,replace=False) "
      ],
      "metadata": {
        "colab": {
          "base_uri": "https://localhost:8080/"
        },
        "id": "bEm0JCCaTzXC",
        "outputId": "b609d615-e81f-4b6e-a472-89d5eed5350c"
      },
      "execution_count": null,
      "outputs": [
        {
          "output_type": "execute_result",
          "data": {
            "text/plain": [
              "array([2, 4, 0])"
            ]
          },
          "metadata": {},
          "execution_count": 15
        }
      ]
    },
    {
      "cell_type": "code",
      "source": [
        "\n",
        "np.random.choice(5,3,replace=True) # 중복된 값을 출력가능"
      ],
      "metadata": {
        "colab": {
          "base_uri": "https://localhost:8080/"
        },
        "id": "RVuVPzkdUT9Z",
        "outputId": "b248e28c-3d5c-4777-aa7d-0e2973ae1a53"
      },
      "execution_count": null,
      "outputs": [
        {
          "output_type": "execute_result",
          "data": {
            "text/plain": [
              "array([4, 0, 4])"
            ]
          },
          "metadata": {},
          "execution_count": 14
        }
      ]
    },
    {
      "cell_type": "code",
      "source": [
        "# np.random.choice(5,3,replace=False) # 비복원 추출(중복 불가): 자리뽁기, 경품뽑기 \n",
        "# np.random.choice(5,3,replace=True)  # 복원 추출(중복 가능): 동전 던지기, 주사위 던지기"
      ],
      "metadata": {
        "id": "w5TKY_BPUUf8"
      },
      "execution_count": null,
      "outputs": []
    },
    {
      "cell_type": "code",
      "source": [
        "# arange(5) = [0, 1, 2, 3, 4] => 10. # 특정 숫자의 확률을 높이거나 낮출 수 있다.\n",
        "np.random.choice(5, 10, p=[0.1, 0, 0.3, 0.6, 0])"
      ],
      "metadata": {
        "colab": {
          "base_uri": "https://localhost:8080/"
        },
        "id": "KbX5AVBvUoQq",
        "outputId": "342f67cd-5614-4a84-9714-901e25f05821"
      },
      "execution_count": null,
      "outputs": [
        {
          "output_type": "execute_result",
          "data": {
            "text/plain": [
              "array([3, 3, 3, 0, 3, 3, 2, 2, 3, 3])"
            ]
          },
          "metadata": {},
          "execution_count": 17
        }
      ]
    },
    {
      "cell_type": "markdown",
      "source": [
        "## 난수 생성"
      ],
      "metadata": {
        "id": "5wsqdaTnUwaB"
      }
    },
    {
      "cell_type": "markdown",
      "source": [
        "## `rand` : 0~1 사이에서 균일한 확률 분포로 실수인 난수를 생성\n",
        "=> 0~1 사이의 임의의 수\n",
        "`np.random.rand(n)` : 생성할 난수의 개수 \n",
        "`np.random.rand(m, n)` : 배열 모양으로 생성\n"
      ],
      "metadata": {
        "id": "GGV974f2U-AX"
      }
    },
    {
      "cell_type": "code",
      "source": [
        "np.random.rand(10) # 0~1 10개 임의의 수"
      ],
      "metadata": {
        "colab": {
          "base_uri": "https://localhost:8080/"
        },
        "id": "8NZRUcG5VeJT",
        "outputId": "fdf4eb3e-7ee8-497b-cc0d-19cbf12ef5cc"
      },
      "execution_count": 18,
      "outputs": [
        {
          "output_type": "execute_result",
          "data": {
            "text/plain": [
              "array([0.32504723, 0.03842543, 0.63427406, 0.95894927, 0.65279032,\n",
              "       0.63505887, 0.99529957, 0.58185033, 0.41436859, 0.4746975 ])"
            ]
          },
          "metadata": {},
          "execution_count": 18
        }
      ]
    },
    {
      "cell_type": "code",
      "source": [
        "np.random.rand(3, 5) # 0~1 15개 -> (3, 5) 2차원 배열로 저장"
      ],
      "metadata": {
        "colab": {
          "base_uri": "https://localhost:8080/"
        },
        "id": "CnnkvGKJVhMm",
        "outputId": "a32fdbd2-2dca-45ba-9970-a1484c451263"
      },
      "execution_count": 19,
      "outputs": [
        {
          "output_type": "execute_result",
          "data": {
            "text/plain": [
              "array([[0.6235101 , 0.33800761, 0.67475232, 0.31720174, 0.77834548],\n",
              "       [0.94957105, 0.66252687, 0.01357164, 0.6228461 , 0.67365963],\n",
              "       [0.971945  , 0.87819347, 0.50962438, 0.05571469, 0.45115921]])"
            ]
          },
          "metadata": {},
          "execution_count": 19
        }
      ]
    },
    {
      "cell_type": "code",
      "source": [
        "np.random.rand(3, 5, 2)"
      ],
      "metadata": {
        "colab": {
          "base_uri": "https://localhost:8080/"
        },
        "id": "33C3IqoLViwj",
        "outputId": "3e78f8f7-ff9d-42c5-cf15-218f68b35214"
      },
      "execution_count": 20,
      "outputs": [
        {
          "output_type": "execute_result",
          "data": {
            "text/plain": [
              "array([[[0.01998767, 0.44171092],\n",
              "        [0.97958673, 0.35944446],\n",
              "        [0.48089353, 0.68866118],\n",
              "        [0.88047589, 0.91823547],\n",
              "        [0.21682214, 0.56518887]],\n",
              "\n",
              "       [[0.86510256, 0.50896896],\n",
              "        [0.91672295, 0.92115761],\n",
              "        [0.08311249, 0.27771856],\n",
              "        [0.0093567 , 0.84234208],\n",
              "        [0.64717414, 0.84138612]],\n",
              "\n",
              "       [[0.26473016, 0.39782075],\n",
              "        [0.55282148, 0.16494046],\n",
              "        [0.36980809, 0.14644176],\n",
              "        [0.56961841, 0.70373728],\n",
              "        [0.28847644, 0.43328806]]])"
            ]
          },
          "metadata": {},
          "execution_count": 20
        }
      ]
    },
    {
      "cell_type": "markdown",
      "source": [
        "### `randn` : 기댓값(평균)이 0이고 표준편차가 1인 표준 정규 분포(standard normal distribution)를 따르는 난수 생성\n",
        "ex) 여론조사, 수능등급![pi.png](data:image/png;base64,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)"
      ],
      "metadata": {
        "id": "4N9pbpApVtk1"
      }
    },
    {
      "cell_type": "code",
      "source": [
        "np.random.randn(10)"
      ],
      "metadata": {
        "colab": {
          "base_uri": "https://localhost:8080/"
        },
        "id": "-iqLtKLxVkHR",
        "outputId": "2d07d6d9-3454-4c46-ca56-e2ec869d86cb"
      },
      "execution_count": 21,
      "outputs": [
        {
          "output_type": "execute_result",
          "data": {
            "text/plain": [
              "array([-0.57890879,  1.42694855,  0.27699691,  0.78966713,  0.32207411,\n",
              "        0.70039238,  0.38871663, -0.04126386,  0.29588432, -0.42527999])"
            ]
          },
          "metadata": {},
          "execution_count": 21
        }
      ]
    },
    {
      "cell_type": "code",
      "source": [
        "np.random.randn(5,2)"
      ],
      "metadata": {
        "colab": {
          "base_uri": "https://localhost:8080/"
        },
        "id": "ErAM8k26WGHI",
        "outputId": "e4e1a92e-dc03-4b7b-e480-7a42485aa105"
      },
      "execution_count": 23,
      "outputs": [
        {
          "output_type": "execute_result",
          "data": {
            "text/plain": [
              "array([[-0.49240425,  2.32773811],\n",
              "       [ 1.80440397, -0.24942133],\n",
              "       [-0.82086383, -1.49333996],\n",
              "       [ 0.52417595,  0.34511317],\n",
              "       [ 0.72437468, -2.04038084]])"
            ]
          },
          "metadata": {},
          "execution_count": 23
        }
      ]
    },
    {
      "cell_type": "markdown",
      "source": [
        "### `randint` : 임의의 범위의 숫자들을 리턴\n",
        "```\n",
        "np.random.randint(low, high=None, size=None)\n",
        "```\n",
        "low~high값까지의 범위에 임의 정수를 반환\n",
        "* high를 입력하지 않으면 0~low\n",
        "* size를 입력하지않으면 1만. size 입력하면 그만큼\n"
      ],
      "metadata": {
        "id": "P4xj31zIWmvv"
      }
    },
    {
      "cell_type": "code",
      "source": [
        "np.random.randint(10)"
      ],
      "metadata": {
        "colab": {
          "base_uri": "https://localhost:8080/"
        },
        "id": "4Ti80eL7WvbY",
        "outputId": "66ae49ae-9864-480d-c8cd-87fafadc9687"
      },
      "execution_count": 24,
      "outputs": [
        {
          "output_type": "execute_result",
          "data": {
            "text/plain": [
              "6"
            ]
          },
          "metadata": {},
          "execution_count": 24
        }
      ]
    },
    {
      "cell_type": "code",
      "source": [
        "np.random.randint(10, size=10)"
      ],
      "metadata": {
        "colab": {
          "base_uri": "https://localhost:8080/"
        },
        "id": "4XfYANN-W4Vz",
        "outputId": "086c3637-6598-4cfa-e2e6-be3e78869b64"
      },
      "execution_count": 25,
      "outputs": [
        {
          "output_type": "execute_result",
          "data": {
            "text/plain": [
              "array([8, 8, 3, 2, 3, 6, 3, 6, 5, 7])"
            ]
          },
          "metadata": {},
          "execution_count": 25
        }
      ]
    },
    {
      "cell_type": "code",
      "source": [
        "np.random.randint(10, 20, size=(2, 2, 5))"
      ],
      "metadata": {
        "colab": {
          "base_uri": "https://localhost:8080/"
        },
        "id": "t244jUbwW_dz",
        "outputId": "687eeaab-9462-4b1f-b605-cf9c19623003"
      },
      "execution_count": 26,
      "outputs": [
        {
          "output_type": "execute_result",
          "data": {
            "text/plain": [
              "array([[[10, 18, 14, 16, 15],\n",
              "        [18, 12, 13, 19, 17]],\n",
              "\n",
              "       [[15, 13, 14, 15, 13],\n",
              "        [13, 17, 19, 19, 19]]])"
            ]
          },
          "metadata": {},
          "execution_count": 26
        }
      ]
    },
    {
      "cell_type": "markdown",
      "source": [
        "## ✅ 연습문제 3\n",
        "1. 동전을 10번 던져 앞면(숫자 1)과 뒷면(숫자 0)이 나오는 가상 실험을 작성하라\n",
        "2. 주사위를 100번 던져서 나오는 숫자의 평균\n",
        "3. 가격이 10,000원인 주식이 있다. 이 주식의 일간 수익률(%)은 기댓값이 0%이고 표준편차가 1%인 표준 정규 분포를 따른다고 하자. 250일 동안의 주가를 무작위로 생성하라"
      ],
      "metadata": {
        "id": "sGSkqb6mXHsc"
      }
    },
    {
      "cell_type": "code",
      "source": [
        "# 1. 동전을 10번 던져 앞면(숫자 1)과 뒷면(숫자 0)이 나오는 가상 실험을 작성하라(배열)\n",
        "np.random.choice(2,10,replace=True) # 2라고 써야 1로 나옴"
      ],
      "metadata": {
        "colab": {
          "base_uri": "https://localhost:8080/"
        },
        "id": "W71G98CjXD8f",
        "outputId": "c556c9ee-1386-4bb8-99dd-2af2a9a7a5e0"
      },
      "execution_count": 32,
      "outputs": [
        {
          "output_type": "execute_result",
          "data": {
            "text/plain": [
              "array([1, 1, 0, 0, 0, 0, 1, 1, 1, 0])"
            ]
          },
          "metadata": {},
          "execution_count": 32
        }
      ]
    },
    {
      "cell_type": "code",
      "source": [
        "array4 = np.random.randint(2, size=100)\n",
        "array4"
      ],
      "metadata": {
        "colab": {
          "base_uri": "https://localhost:8080/"
        },
        "id": "LU56Or1YdX4j",
        "outputId": "604109f4-a6fe-4739-9bb5-14aa553d849a"
      },
      "execution_count": 44,
      "outputs": [
        {
          "output_type": "execute_result",
          "data": {
            "text/plain": [
              "array([1, 0, 1, 0, 0, 0, 0, 1, 0, 0, 0, 0, 1, 1, 0, 1, 1, 1, 1, 1, 1, 0,\n",
              "       1, 1, 0, 0, 1, 0, 1, 1, 0, 1, 1, 0, 0, 1, 0, 0, 1, 1, 1, 1, 1, 0,\n",
              "       1, 0, 1, 0, 0, 0, 0, 1, 1, 1, 0, 0, 0, 1, 1, 0, 0, 0, 1, 1, 0, 0,\n",
              "       1, 1, 0, 1, 0, 0, 1, 0, 1, 1, 1, 1, 1, 0, 0, 0, 0, 1, 1, 0, 1, 0,\n",
              "       1, 0, 1, 0, 0, 0, 0, 1, 0, 1, 1, 0])"
            ]
          },
          "metadata": {},
          "execution_count": 44
        }
      ]
    },
    {
      "cell_type": "code",
      "source": [
        "# HEAD, TAIL\n",
        "coin = np.array(['HEAD', 'TAIL']) # 앞, 뒤\n",
        "coin = np.array([0, 1]) # 앞, 뒤\n",
        "np.random.choice(coin, size=10, replace=True)"
      ],
      "metadata": {
        "colab": {
          "base_uri": "https://localhost:8080/"
        },
        "id": "f7U5m9yqXgp_",
        "outputId": "c131eeba-8949-4db5-d2bc-b4933de24fef"
      },
      "execution_count": 45,
      "outputs": [
        {
          "output_type": "execute_result",
          "data": {
            "text/plain": [
              "array([0, 1, 0, 1, 0, 0, 1, 1, 1, 0])"
            ]
          },
          "metadata": {},
          "execution_count": 45
        }
      ]
    },
    {
      "cell_type": "code",
      "source": [
        "# 2. 주사위를 100번 던져서 나오는 숫자의 평균(값)\n",
        "array4 = np.random.randint(1,7, size=100)\n",
        "array4.mean()"
      ],
      "metadata": {
        "colab": {
          "base_uri": "https://localhost:8080/"
        },
        "id": "v0aQlS5lXcD3",
        "outputId": "671416a9-e124-4a67-a140-30743f3c6ad3"
      },
      "execution_count": 39,
      "outputs": [
        {
          "output_type": "execute_result",
          "data": {
            "text/plain": [
              "3.44"
            ]
          },
          "metadata": {},
          "execution_count": 39
        }
      ]
    },
    {
      "cell_type": "code",
      "source": [
        "#2\n",
        "dice = np.arange(1, 7) # 1~6\n",
        "np.random.choice(dice, 100, replace=True).mean()"
      ],
      "metadata": {
        "colab": {
          "base_uri": "https://localhost:8080/"
        },
        "id": "qfV6R46dd7Kq",
        "outputId": "3f7f07aa-6cd1-4ec3-8a54-f144ac9efbcb"
      },
      "execution_count": 46,
      "outputs": [
        {
          "output_type": "execute_result",
          "data": {
            "text/plain": [
              "3.53"
            ]
          },
          "metadata": {},
          "execution_count": 46
        }
      ]
    },
    {
      "cell_type": "code",
      "source": [
        "# 3. 가격이 10,000원인 주식이 있다. 이 주식의 일간 수익률(%)은 기댓값이 0%이고 표준편차가 1%인 표준 정규 분포를 따른다고 하자. 250일 동안의 주가를 무작위로 생성하라(배열)\n",
        "earn1 = np.random.randn(250)\n",
        "earn1 # 평균이 0이고 표준편차가 1인"
      ],
      "metadata": {
        "colab": {
          "base_uri": "https://localhost:8080/"
        },
        "id": "-SnQG5bMXe0h",
        "outputId": "0b0a8d53-a4c5-4316-da18-3cb425416dbc"
      },
      "execution_count": 50,
      "outputs": [
        {
          "output_type": "execute_result",
          "data": {
            "text/plain": [
              "array([-9.24301863e-01,  4.37830510e-02, -1.75924179e+00, -4.11041437e-01,\n",
              "        4.25863739e-01, -5.17828054e-01, -7.41864169e-01,  4.50359258e-01,\n",
              "        1.21125398e+00,  5.49684058e-01, -2.25605514e-01,  1.51243979e-01,\n",
              "        1.13848502e+00,  9.77685483e-01,  2.52119915e-02,  1.13507561e+00,\n",
              "        5.22899516e-01, -4.37394418e-02,  2.75678119e-01,  1.39180252e+00,\n",
              "        9.19991637e-01, -4.51372328e-01, -8.87056795e-01, -9.70513539e-02,\n",
              "        1.06644207e+00, -1.29290502e-01, -3.04739307e-01, -3.24522497e-02,\n",
              "        4.33455054e-01,  1.17293936e+00,  2.60832601e+00, -3.89059476e-02,\n",
              "        7.10814059e-01,  4.74577840e-01,  1.97931704e+00, -6.46195685e-01,\n",
              "        2.33477077e-01,  1.56411977e+00, -3.01892210e-01, -1.13947271e+00,\n",
              "        2.24736010e-01, -5.02332423e-01,  1.37564193e+00, -1.79869174e+00,\n",
              "        3.92733287e-01, -1.87345082e+00,  1.05847653e+00, -8.85035598e-01,\n",
              "       -5.36192304e-01,  2.01371064e-01, -7.00934596e-01, -1.04518877e+00,\n",
              "        6.29338758e-02,  2.18104258e+00, -1.87032717e+00,  5.92036296e-01,\n",
              "       -1.30050029e+00,  1.84683203e+00,  5.75570943e-01, -1.10542722e+00,\n",
              "        1.25709748e+00, -5.56343064e-01,  2.59036102e-01, -2.64959094e+00,\n",
              "       -2.61552712e-01,  1.44253427e+00,  1.33026712e+00, -1.84637695e+00,\n",
              "        1.07947262e+00,  1.20476658e+00, -8.63168594e-03,  1.84719250e-02,\n",
              "        4.66268570e-01, -2.32728558e-01, -5.82217594e-01,  5.87442784e-01,\n",
              "        1.57576449e+00,  4.49119899e-01, -8.68130183e-01, -1.94434505e+00,\n",
              "       -1.07433116e+00,  2.46267489e+00, -1.90062144e+00, -7.64929674e-01,\n",
              "        1.34324747e+00,  5.31363840e-01,  1.21364954e+00,  8.40390878e-01,\n",
              "        2.68206422e-01,  4.89977608e-02, -1.12828344e+00, -1.67055297e-03,\n",
              "        8.89185463e-01,  1.62279163e+00,  1.14264736e+00,  2.25325341e+00,\n",
              "        5.35326592e-01, -1.46873510e+00, -1.36042910e+00,  5.71980758e-01,\n",
              "       -3.05433048e+00, -1.83457552e+00,  1.37975380e+00, -2.13133261e-01,\n",
              "        1.60811224e+00, -1.76187306e-01,  1.20737652e-01, -1.25966940e+00,\n",
              "       -4.22543588e-01,  4.24931561e-01,  2.31105581e+00, -7.43191550e-01,\n",
              "        5.74482970e-01, -7.05279969e-01, -2.05648034e+00, -3.98786327e-01,\n",
              "       -1.73528169e-01, -9.86520278e-01, -6.89415745e-01,  2.71684236e-01,\n",
              "        8.73142676e-01, -5.03410326e-01, -1.16249765e+00,  5.78744820e-01,\n",
              "       -8.52387467e-01, -5.66431793e-01, -1.07643504e-01, -1.05627033e+00,\n",
              "        7.56846334e-01, -1.16425432e-01, -1.16766570e+00, -1.69207152e-01,\n",
              "        9.41103092e-01,  2.34704731e+00,  4.33909637e-01, -1.27005611e+00,\n",
              "       -1.19386764e+00, -7.29057520e-01, -1.86758450e+00,  9.32275057e-02,\n",
              "        3.97836636e-01, -2.91115079e-01, -4.84109409e-01, -7.59530369e-01,\n",
              "       -1.47302220e+00, -7.40941166e-01,  6.58698585e-01, -7.02774233e-01,\n",
              "       -7.45446113e-01, -3.28938070e-01, -1.05777805e+00,  1.15505144e-01,\n",
              "        8.47274547e-01, -3.16164350e-01,  1.41436453e+00, -1.39653759e+00,\n",
              "       -1.13290222e+00,  4.57367886e-02,  9.38533858e-01,  3.92958181e-01,\n",
              "        2.17047195e-01, -3.48045019e-01,  7.75902303e-01,  4.02512246e-01,\n",
              "       -3.12186457e-01, -6.36099835e-01,  6.61462355e-01,  4.32518195e-01,\n",
              "       -2.20215085e+00, -1.56588046e+00, -3.99679394e-01,  6.28692047e-01,\n",
              "       -1.04311497e-01,  3.65676123e-01, -8.07522758e-01, -4.70789202e-01,\n",
              "        1.20876091e+00, -1.02550220e+00, -7.28066617e-01, -3.03562729e-01,\n",
              "        1.03777245e+00, -2.15941540e+00,  1.49065581e-01, -1.76563094e-01,\n",
              "       -1.59052305e+00, -1.57897372e-02,  1.32918516e+00,  4.20428791e-01,\n",
              "        1.21033450e+00, -1.03551719e+00,  4.94749862e-01, -7.69132009e-02,\n",
              "       -6.55023151e-01,  1.23545523e+00, -2.81775253e-01, -2.25145360e-01,\n",
              "       -9.21632391e-01, -1.06985001e+00, -1.57024380e-01, -1.24316733e+00,\n",
              "        4.09288064e-01,  7.43082189e-01, -4.40884888e-01,  5.62364766e-01,\n",
              "        3.73525044e-01,  2.05676549e-01,  9.70128577e-01, -1.11225037e+00,\n",
              "       -1.58345125e+00, -7.49876676e-01, -7.06460536e-02,  2.19183145e-01,\n",
              "       -2.46959614e-01, -8.69263122e-01,  1.59487616e+00, -3.30860685e-01,\n",
              "       -4.42981885e-02,  7.65437808e-01, -9.66849101e-01,  1.11047691e+00,\n",
              "       -1.91724778e-01, -6.13416921e-01, -1.07428743e+00,  9.43383762e-01,\n",
              "        3.43418954e-01,  4.26840521e-01, -5.78855762e-01, -1.04694871e+00,\n",
              "       -5.37451065e-01,  6.82780321e-01, -1.20092701e+00, -1.28866105e+00,\n",
              "        1.36915209e-01, -7.43835470e-01,  1.65123866e+00, -1.27849080e+00,\n",
              "        4.21015279e-01, -2.40057445e-01,  2.03548353e-01, -1.00709948e+00,\n",
              "        7.68658146e-01,  1.50924285e+00, -5.72611285e-01,  1.80116166e+00,\n",
              "        5.96404989e-01, -1.74163629e-01, -2.87771871e-01, -1.05474169e-01,\n",
              "        1.32268598e+00, -4.51736510e-01])"
            ]
          },
          "metadata": {},
          "execution_count": 50
        }
      ]
    },
    {
      "cell_type": "code",
      "source": [
        "earn2 =earn1/ 100 # 1% 표준편차(1% = 0.01)\n",
        "earn2"
      ],
      "metadata": {
        "colab": {
          "base_uri": "https://localhost:8080/"
        },
        "id": "8GDfFJfeeCEF",
        "outputId": "825a296c-5131-4b9d-f685-6f4a7a94032d"
      },
      "execution_count": 52,
      "outputs": [
        {
          "output_type": "execute_result",
          "data": {
            "text/plain": [
              "array([-9.24301863e-03,  4.37830510e-04, -1.75924179e-02, -4.11041437e-03,\n",
              "        4.25863739e-03, -5.17828054e-03, -7.41864169e-03,  4.50359258e-03,\n",
              "        1.21125398e-02,  5.49684058e-03, -2.25605514e-03,  1.51243979e-03,\n",
              "        1.13848502e-02,  9.77685483e-03,  2.52119915e-04,  1.13507561e-02,\n",
              "        5.22899516e-03, -4.37394418e-04,  2.75678119e-03,  1.39180252e-02,\n",
              "        9.19991637e-03, -4.51372328e-03, -8.87056795e-03, -9.70513539e-04,\n",
              "        1.06644207e-02, -1.29290502e-03, -3.04739307e-03, -3.24522497e-04,\n",
              "        4.33455054e-03,  1.17293936e-02,  2.60832601e-02, -3.89059476e-04,\n",
              "        7.10814059e-03,  4.74577840e-03,  1.97931704e-02, -6.46195685e-03,\n",
              "        2.33477077e-03,  1.56411977e-02, -3.01892210e-03, -1.13947271e-02,\n",
              "        2.24736010e-03, -5.02332423e-03,  1.37564193e-02, -1.79869174e-02,\n",
              "        3.92733287e-03, -1.87345082e-02,  1.05847653e-02, -8.85035598e-03,\n",
              "       -5.36192304e-03,  2.01371064e-03, -7.00934596e-03, -1.04518877e-02,\n",
              "        6.29338758e-04,  2.18104258e-02, -1.87032717e-02,  5.92036296e-03,\n",
              "       -1.30050029e-02,  1.84683203e-02,  5.75570943e-03, -1.10542722e-02,\n",
              "        1.25709748e-02, -5.56343064e-03,  2.59036102e-03, -2.64959094e-02,\n",
              "       -2.61552712e-03,  1.44253427e-02,  1.33026712e-02, -1.84637695e-02,\n",
              "        1.07947262e-02,  1.20476658e-02, -8.63168594e-05,  1.84719250e-04,\n",
              "        4.66268570e-03, -2.32728558e-03, -5.82217594e-03,  5.87442784e-03,\n",
              "        1.57576449e-02,  4.49119899e-03, -8.68130183e-03, -1.94434505e-02,\n",
              "       -1.07433116e-02,  2.46267489e-02, -1.90062144e-02, -7.64929674e-03,\n",
              "        1.34324747e-02,  5.31363840e-03,  1.21364954e-02,  8.40390878e-03,\n",
              "        2.68206422e-03,  4.89977608e-04, -1.12828344e-02, -1.67055297e-05,\n",
              "        8.89185463e-03,  1.62279163e-02,  1.14264736e-02,  2.25325341e-02,\n",
              "        5.35326592e-03, -1.46873510e-02, -1.36042910e-02,  5.71980758e-03,\n",
              "       -3.05433048e-02, -1.83457552e-02,  1.37975380e-02, -2.13133261e-03,\n",
              "        1.60811224e-02, -1.76187306e-03,  1.20737652e-03, -1.25966940e-02,\n",
              "       -4.22543588e-03,  4.24931561e-03,  2.31105581e-02, -7.43191550e-03,\n",
              "        5.74482970e-03, -7.05279969e-03, -2.05648034e-02, -3.98786327e-03,\n",
              "       -1.73528169e-03, -9.86520278e-03, -6.89415745e-03,  2.71684236e-03,\n",
              "        8.73142676e-03, -5.03410326e-03, -1.16249765e-02,  5.78744820e-03,\n",
              "       -8.52387467e-03, -5.66431793e-03, -1.07643504e-03, -1.05627033e-02,\n",
              "        7.56846334e-03, -1.16425432e-03, -1.16766570e-02, -1.69207152e-03,\n",
              "        9.41103092e-03,  2.34704731e-02,  4.33909637e-03, -1.27005611e-02,\n",
              "       -1.19386764e-02, -7.29057520e-03, -1.86758450e-02,  9.32275057e-04,\n",
              "        3.97836636e-03, -2.91115079e-03, -4.84109409e-03, -7.59530369e-03,\n",
              "       -1.47302220e-02, -7.40941166e-03,  6.58698585e-03, -7.02774233e-03,\n",
              "       -7.45446113e-03, -3.28938070e-03, -1.05777805e-02,  1.15505144e-03,\n",
              "        8.47274547e-03, -3.16164350e-03,  1.41436453e-02, -1.39653759e-02,\n",
              "       -1.13290222e-02,  4.57367886e-04,  9.38533858e-03,  3.92958181e-03,\n",
              "        2.17047195e-03, -3.48045019e-03,  7.75902303e-03,  4.02512246e-03,\n",
              "       -3.12186457e-03, -6.36099835e-03,  6.61462355e-03,  4.32518195e-03,\n",
              "       -2.20215085e-02, -1.56588046e-02, -3.99679394e-03,  6.28692047e-03,\n",
              "       -1.04311497e-03,  3.65676123e-03, -8.07522758e-03, -4.70789202e-03,\n",
              "        1.20876091e-02, -1.02550220e-02, -7.28066617e-03, -3.03562729e-03,\n",
              "        1.03777245e-02, -2.15941540e-02,  1.49065581e-03, -1.76563094e-03,\n",
              "       -1.59052305e-02, -1.57897372e-04,  1.32918516e-02,  4.20428791e-03,\n",
              "        1.21033450e-02, -1.03551719e-02,  4.94749862e-03, -7.69132009e-04,\n",
              "       -6.55023151e-03,  1.23545523e-02, -2.81775253e-03, -2.25145360e-03,\n",
              "       -9.21632391e-03, -1.06985001e-02, -1.57024380e-03, -1.24316733e-02,\n",
              "        4.09288064e-03,  7.43082189e-03, -4.40884888e-03,  5.62364766e-03,\n",
              "        3.73525044e-03,  2.05676549e-03,  9.70128577e-03, -1.11225037e-02,\n",
              "       -1.58345125e-02, -7.49876676e-03, -7.06460536e-04,  2.19183145e-03,\n",
              "       -2.46959614e-03, -8.69263122e-03,  1.59487616e-02, -3.30860685e-03,\n",
              "       -4.42981885e-04,  7.65437808e-03, -9.66849101e-03,  1.11047691e-02,\n",
              "       -1.91724778e-03, -6.13416921e-03, -1.07428743e-02,  9.43383762e-03,\n",
              "        3.43418954e-03,  4.26840521e-03, -5.78855762e-03, -1.04694871e-02,\n",
              "       -5.37451065e-03,  6.82780321e-03, -1.20092701e-02, -1.28866105e-02,\n",
              "        1.36915209e-03, -7.43835470e-03,  1.65123866e-02, -1.27849080e-02,\n",
              "        4.21015279e-03, -2.40057445e-03,  2.03548353e-03, -1.00709948e-02,\n",
              "        7.68658146e-03,  1.50924285e-02, -5.72611285e-03,  1.80116166e-02,\n",
              "        5.96404989e-03, -1.74163629e-03, -2.87771871e-03, -1.05474169e-03,\n",
              "        1.32268598e-02, -4.51736510e-03])"
            ]
          },
          "metadata": {},
          "execution_count": 52
        }
      ]
    },
    {
      "cell_type": "code",
      "source": [
        "stock = np.empty(250)\n",
        "price = 10000\n",
        "for i, v in enumerate(earn2): # index, value\n",
        "  price *= (1 + v) # 수익률 변화를 거친 금액\n",
        "  stock[i] = price # 가격 기록\n",
        "stock"
      ],
      "metadata": {
        "colab": {
          "base_uri": "https://localhost:8080/"
        },
        "id": "56-DwCS6eR5h",
        "outputId": "d292006c-a164-439d-a521-66a7261e6bac"
      },
      "execution_count": 53,
      "outputs": [
        {
          "output_type": "execute_result",
          "data": {
            "text/plain": [
              "array([ 9907.56981375,  9911.90765009,  9737.53322887,  9697.50793238,\n",
              "        9738.80610229,  9688.37583218,  9616.50124328,  9659.81004696,\n",
              "        9776.81488092,  9830.55647372,  9808.37819624,  9823.21277774,\n",
              "        9935.04858363, 10032.1821114 , 10034.7114243 , 10148.61298621,\n",
              "       10201.68003444, 10197.21787654, 10225.32937498, 10367.64576683,\n",
              "       10463.02724085, 10415.80003125, 10323.40596927, 10313.38696401,\n",
              "       10423.37326149, 10409.89682985, 10378.1737824 , 10374.80583153,\n",
              "       10419.77595179, 10541.99360529, 10816.96316684, 10812.75472482,\n",
              "       10889.61330554, 10941.29299711, 11157.85587398, 11085.75429074,\n",
              "       11111.63698578, 11285.43629629, 11251.36644322, 11123.16019305,\n",
              "       11148.15793941, 11092.15712747, 11244.7454916 , 11042.48718299,\n",
              "       11085.85470583, 10878.16667009, 10993.30951137, 10896.01480881,\n",
              "       10837.59121599, 10859.41498877, 10783.29759214, 10670.59177704,\n",
              "       10677.30719401, 10910.18380983, 10706.12767758, 10769.51183928,\n",
              "       10629.45430644, 10825.762473  , 10888.0724161 , 10767.71270041,\n",
              "       10903.07334566, 10842.41485336, 10870.50062216, 10582.47682207,\n",
              "       10554.79806695, 10707.05464629, 10849.48707407, 10649.16464522,\n",
              "       10764.11946204, 10893.80197598, 10892.86165721, 10894.87377844,\n",
              "       10945.67315059, 10920.19944332, 10856.62012083, 10920.39655234,\n",
              "       11092.47628382, 11142.2948021 , 11045.56517787, 10830.80127776,\n",
              "       10714.44260442, 10978.3044923 , 10769.64848351, 10687.26824653,\n",
              "       10830.82470657, 10888.37579268, 11020.52251515, 11113.13798111,\n",
              "       11142.94413082, 11148.40392393, 11022.61832907, 11022.43419039,\n",
              "       11120.44407292, 11300.90570833, 11430.03520912, 11687.58286672,\n",
              "       11750.14960574, 11577.57103414, 11420.06638835, 11485.38697064,\n",
              "       11134.58529598, 10930.31291961, 11081.1243276 , 11057.506766  ,\n",
              "       11235.32388531, 11215.52867083, 11229.07003685, 11087.62087757,\n",
              "       11040.77084645, 11087.68656636, 11343.92919133, 11259.62206814,\n",
              "       11324.30667947, 11244.43861281, 11013.19894294, 10969.27981137,\n",
              "       10950.24502095, 10842.2186333 , 10767.47067096, 10796.72419144,\n",
              "       10890.99499801, 10836.16860463, 10710.19839943, 10772.18311791,\n",
              "       10680.36237911, 10619.86541097, 10608.43381577, 10496.3800772 ,\n",
              "       10575.82154498, 10563.50859905, 10440.16213222, 10422.49663119,\n",
              "       10520.58306928, 10767.50613138, 10814.22737819, 10676.88062244,\n",
              "       10549.41279963, 10472.50151225, 10276.91869765, 10286.49961261,\n",
              "       10327.42307661, 10297.3583908 , 10247.50791   , 10169.67497539,\n",
              "       10019.87340516,  9945.63203828, 10011.14377582,  9940.7880369 ,\n",
              "        9866.68481885,  9834.22953622,  9730.20521477,  9741.44410236,\n",
              "        9823.98087876,  9792.92095348,  9931.42855341,  9792.73242004,\n",
              "        9681.79033742,  9686.21847741,  9777.1269174 ,  9815.54693748,\n",
              "        9836.85130675,  9802.6146358 ,  9878.67334854,  9918.43621848,\n",
              "        9887.47220385,  9824.57800953,  9889.56389456,  9932.33805784,\n",
              "        9713.61299085,  9561.50942346,  9523.29404058,  9583.1662328 ,\n",
              "        9573.16988861,  9608.17668508,  9530.58847174,  9485.71949029,\n",
              "        9600.37915914,  9501.92705923,  9432.74670031,  9404.11239697,\n",
              "        9501.70568453,  9296.52438858,  9310.38230664,  9293.94360762,\n",
              "        9146.12129207,  9144.67714355,  9266.2268354 ,  9305.18472089,\n",
              "        9417.80858143,  9320.28555501,  9366.39765497,  9359.19365873,\n",
              "        9297.88877355,  9412.76002694,  9386.23719852,  9365.104521  ,\n",
              "        9278.79268431,  9179.52351985,  9165.10942996,  9051.17178387,\n",
              "        9088.21714959,  9155.75007253,  9115.38375408,  9166.6454606 ,\n",
              "        9200.88517708,  9219.8092402 ,  9309.25324437,  9205.7110409 ,\n",
              "        9059.9430939 ,  8992.00469375,  8985.65219729,  9005.3472324 ,\n",
              "        8983.10766161,  8905.02081952,  9047.04487391,  9017.11175924,\n",
              "        9013.11734207,  9082.10714992,  8994.2968786 ,  9094.17646866,\n",
              "        9076.74067906,  9021.06241588,  8924.15027648,  9008.33926112,\n",
              "        9039.27560561,  9077.8588967 ,  9025.31118742,  8930.82080837,\n",
              "        8882.82201684,  8943.47217749,  8836.06760451,  8722.20064294,\n",
              "        8734.14266217,  8669.17501101,  8812.32378046,  8699.65903184,\n",
              "        8736.28592555,  8715.31382081,  8733.05369855,  8645.1031599 ,\n",
              "        8711.55444957,  8843.03296223,  8792.39675752,  8950.76203701,\n",
              "        9004.14482839,  8988.46288297,  8962.59661518,  8953.14339089,\n",
              "        9071.56536318,  9030.58579036])"
            ]
          },
          "metadata": {},
          "execution_count": 53
        }
      ]
    },
    {
      "cell_type": "code",
      "source": [
        "# 다시 복습하기\n",
        "er = np.random.randn(250) / 100\n",
        "stock = np.empty(250)\n",
        "price = 10000\n",
        "for i, v in enumerate(er): # index, value\n",
        "    price *= (1 + v) # 수익률 변화를 거친 금액\n",
        "    stock[i] = price\n",
        "stock"
      ],
      "metadata": {
        "colab": {
          "base_uri": "https://localhost:8080/"
        },
        "id": "qPTghQZneytE",
        "outputId": "0ebfe787-d826-41e4-dbdc-654917313fd3"
      },
      "execution_count": 54,
      "outputs": [
        {
          "output_type": "execute_result",
          "data": {
            "text/plain": [
              "array([10032.74266776, 10043.29540586,  9998.43976353,  9773.16430517,\n",
              "        9677.46306882,  9659.79297361,  9739.81527661,  9655.82235644,\n",
              "        9547.28180989,  9585.42917893,  9626.19227954,  9472.08514779,\n",
              "        9389.02315747,  9345.76362644,  9321.3980587 ,  9046.3152773 ,\n",
              "        9118.96594938,  9077.58351065,  9169.63101573,  9215.08371972,\n",
              "        9325.312042  ,  9394.20392869,  9257.85810144,  9254.63542839,\n",
              "        9281.30828605,  9403.57959335,  9432.6596583 ,  9398.17019566,\n",
              "        9387.287426  ,  9419.69142542,  9375.15183115,  9353.26552988,\n",
              "        9381.23071574,  9391.2833674 ,  9386.97823083,  9281.42945189,\n",
              "        9360.20658902,  9395.75015146,  9472.88830514,  9439.27056778,\n",
              "        9410.1356186 ,  9367.6889304 ,  9369.54597042,  9457.20248395,\n",
              "        9415.05194503,  9424.87926323,  9386.19213558,  9476.63137427,\n",
              "        9426.50126582,  9537.56873906,  9495.02391803,  9470.80831416,\n",
              "        9448.74362138,  9279.48272044,  9261.21122178,  9383.14305442,\n",
              "        9387.01256916,  9430.84747716,  9424.60944278,  9389.61770371,\n",
              "        9289.52417408,  9359.9247578 ,  9363.27184098,  9543.15115213,\n",
              "        9465.27547403,  9476.44482348,  9303.09177608,  9283.26111543,\n",
              "        9249.49806574,  9308.88528174,  9315.54528771,  9379.3555561 ,\n",
              "        9473.15936146,  9419.86181418,  9350.77283323,  9508.12471389,\n",
              "        9628.43284724,  9685.11749778,  9715.66034062,  9749.70270316,\n",
              "        9784.67043933,  9748.98597082,  9663.43736135,  9690.49089536,\n",
              "        9535.03092204,  9617.35302676,  9444.31785783,  9379.48003754,\n",
              "        9379.60881126,  9306.65870534,  9316.15077082,  9355.55739567,\n",
              "        9366.2528344 ,  9361.55878048,  9506.8982094 ,  9424.13034441,\n",
              "        9467.2356063 ,  9480.05801785,  9478.5480856 ,  9565.55420139,\n",
              "        9522.50786332,  9541.50925419,  9492.52500644,  9453.58096374,\n",
              "        9333.34530701,  9373.04777381,  9358.56676743,  9326.39156396,\n",
              "        9399.48652875,  9567.14942042,  9659.09486972,  9611.97449925,\n",
              "        9520.67285877,  9436.17602357,  9343.68315609,  9595.71530059,\n",
              "        9481.77398026,  9464.10229116,  9302.442494  ,  9305.50610602,\n",
              "        9443.25356279,  9378.72571962,  9530.47716259,  9374.0608676 ,\n",
              "        9324.37943655,  9466.38933471,  9378.54262695,  9345.19762554,\n",
              "        9412.29128897,  9459.4552588 ,  9558.97825206,  9493.91435668,\n",
              "        9618.49085478,  9667.45582364,  9813.36888917,  9760.32547432,\n",
              "        9681.46726148,  9664.06506178,  9481.2007979 ,  9679.88290368,\n",
              "        9724.98390466,  9696.42763662,  9654.32488841,  9643.66951855,\n",
              "        9526.29174293,  9345.25820605,  9375.22205369,  9411.55698549,\n",
              "        9455.9805621 ,  9416.48110725,  9344.39661996,  9230.3211363 ,\n",
              "        9279.11345896,  9300.06874363,  9413.717625  ,  9411.38301391,\n",
              "        9469.24891199,  9573.10381717,  9657.33032262,  9591.13662931,\n",
              "        9510.15985298,  9664.11556046,  9601.68080259,  9674.98896956,\n",
              "        9929.44861007,  9844.99833943,  9881.82006222,  9890.5583908 ,\n",
              "        9840.67321304,  9766.9092287 ,  9670.31447173,  9747.36918808,\n",
              "        9712.54109613,  9796.50354361,  9913.67061641,  9948.51590305,\n",
              "        9988.23709791,  9966.63175704, 10139.17358356, 10328.21583568,\n",
              "       10266.01177426, 10154.79071969, 10091.85190677, 10086.0774571 ,\n",
              "       10061.98218961, 10036.92659064, 10176.29098974, 10107.30609943,\n",
              "       10073.13275087, 10106.59988428, 10186.5082935 , 10305.35645642,\n",
              "       10256.17715839, 10299.60198877, 10323.46913297, 10304.34389992,\n",
              "       10286.51405556, 10329.55480174, 10343.22139622, 10356.2696601 ,\n",
              "       10486.05588705, 10695.61823513, 10510.84783432, 10580.14763297,\n",
              "       10435.14784521, 10501.44337612, 10466.65345285, 10338.24389614,\n",
              "       10428.53881622, 10582.89581935, 10593.05385932, 10625.32857879,\n",
              "       10608.48895161, 10590.68821628, 10711.13385405, 10746.40553345,\n",
              "       10722.3293401 , 10816.98676665, 10961.61805077, 10989.38726024,\n",
              "       11082.0334297 , 10898.50764046, 10888.30112722, 10746.63812054,\n",
              "       10730.76609796, 10592.86769757, 10456.56555339, 10248.53831121,\n",
              "       10191.40437066, 10151.39658599, 10057.22738347,  9976.85932087,\n",
              "       10067.6440821 , 10166.56824125, 10081.90433533, 10099.2610317 ,\n",
              "       10019.37831753, 10031.8587622 , 10084.83256583,  9938.85011831,\n",
              "        9956.3498704 ,  9990.52897222, 10098.97786115, 10288.09026175,\n",
              "       10392.06813543, 10421.31611609, 10553.42383426, 10502.73455542,\n",
              "       10363.87775208, 10470.62983372])"
            ]
          },
          "metadata": {},
          "execution_count": 54
        }
      ]
    },
    {
      "cell_type": "markdown",
      "source": [
        "## 정수 데이터 카운팅\n",
        "* 만약 난수가 정수값이면 unique 명령이나 bincount명령으로 데이터의 빈도가 값을 분석"
      ],
      "metadata": {
        "id": "O9fvYQjxfHYJ"
      }
    },
    {
      "cell_type": "markdown",
      "source": [
        "### `unique`\n",
        "* unique 함수는 데이터에서 중복된 값을 제거하고 중복되지 않은 값의 리스트 출력 (set?)\n",
        "* return_counts 인수를 True로 설정하면 각 값을 가진 데이터 갯수도 출력"
      ],
      "metadata": {
        "id": "Lkduxk3BfUjy"
      }
    },
    {
      "cell_type": "code",
      "source": [
        "np.unique([11,11,2,2,34,34]) # 중복을 허용하지 않음"
      ],
      "metadata": {
        "colab": {
          "base_uri": "https://localhost:8080/"
        },
        "id": "tt9sMwJufTtq",
        "outputId": "3d790fc2-e003-4503-de7b-7d0f2f610c07"
      },
      "execution_count": 55,
      "outputs": [
        {
          "output_type": "execute_result",
          "data": {
            "text/plain": [
              "array([ 2, 11, 34])"
            ]
          },
          "metadata": {},
          "execution_count": 55
        }
      ]
    },
    {
      "cell_type": "code",
      "source": [
        "set([11,11,2,2,34,34]) # 중복을 허용할 수 없는 set형"
      ],
      "metadata": {
        "colab": {
          "base_uri": "https://localhost:8080/"
        },
        "id": "FQrMNkqOfm0L",
        "outputId": "26e6d070-d912-4f34-9d20-79327b7f5a25"
      },
      "execution_count": 56,
      "outputs": [
        {
          "output_type": "execute_result",
          "data": {
            "text/plain": [
              "{2, 11, 34}"
            ]
          },
          "metadata": {},
          "execution_count": 56
        }
      ]
    },
    {
      "cell_type": "code",
      "source": [
        "a = np.array(['a','b','b','c','a'])\n",
        "np.unique(a, return_counts=True) # 중복 제거된 값, 각 값의 빈도수\n",
        "index, count  = np.unique(a, return_counts=True)"
      ],
      "metadata": {
        "id": "N7Q2tWtzfv_Y"
      },
      "execution_count": 57,
      "outputs": []
    },
    {
      "cell_type": "code",
      "source": [
        "index # 중복 제거 후 출력!"
      ],
      "metadata": {
        "colab": {
          "base_uri": "https://localhost:8080/"
        },
        "id": "CX6nSYzlgJZm",
        "outputId": "d40da767-f42b-4850-a33f-1447f1bb172f"
      },
      "execution_count": 58,
      "outputs": [
        {
          "output_type": "execute_result",
          "data": {
            "text/plain": [
              "array(['a', 'b', 'c'], dtype='<U1')"
            ]
          },
          "metadata": {},
          "execution_count": 58
        }
      ]
    },
    {
      "cell_type": "code",
      "source": [
        "count # 각 값의 빈도수"
      ],
      "metadata": {
        "colab": {
          "base_uri": "https://localhost:8080/"
        },
        "id": "2tG5__GugKok",
        "outputId": "bcea8868-4970-43ea-acc9-2ff91155f59d"
      },
      "execution_count": 59,
      "outputs": [
        {
          "output_type": "execute_result",
          "data": {
            "text/plain": [
              "array([2, 2, 1])"
            ]
          },
          "metadata": {},
          "execution_count": 59
        }
      ]
    },
    {
      "cell_type": "code",
      "source": [
        "list(zip(index, count))"
      ],
      "metadata": {
        "colab": {
          "base_uri": "https://localhost:8080/"
        },
        "id": "ANIPw49LgLbt",
        "outputId": "53a82be8-bfaa-4ae8-bc5b-9b4dbfd94d3d"
      },
      "execution_count": 60,
      "outputs": [
        {
          "output_type": "execute_result",
          "data": {
            "text/plain": [
              "[('a', 2), ('b', 2), ('c', 1)]"
            ]
          },
          "metadata": {},
          "execution_count": 60
        }
      ]
    },
    {
      "cell_type": "markdown",
      "source": [
        "### `bincount`\n",
        "* `unique` 함수는 데이터에 존재하는 값에 대해서만 갯수를 세므로 데이터 값이 나올 수 있음에도 불구하고 데이터가 하나도 없는 경우에는 정보를 주지 않음\n",
        "* 따라서 데이터가 주사위를 던졌을 때 나오는 수처럼 특정 범위안의 수인 경우에는 `bincount` 함수에 `minlength` 인수를 설정하여 쓰는 것이 더 편리\n",
        "* `bincount` 함수는 0 부터 `minlength` - 1 까지의 숫자에 대해 각각 카운트\n",
        "* 데이터가 없을 경우에는 카운트 값이 0이 됨"
      ],
      "metadata": {
        "id": "TuF_fR5VgY9_"
      }
    },
    {
      "cell_type": "code",
      "source": [
        "r = np.random.randint(6, size=10) # 0-5\n",
        "r"
      ],
      "metadata": {
        "colab": {
          "base_uri": "https://localhost:8080/"
        },
        "id": "xRZ7n1NLg3Sc",
        "outputId": "b2783b74-3374-4601-d3a8-157b8fc889e3"
      },
      "execution_count": 63,
      "outputs": [
        {
          "output_type": "execute_result",
          "data": {
            "text/plain": [
              "array([3, 0, 5, 2, 1, 0, 0, 1, 0, 4])"
            ]
          },
          "metadata": {},
          "execution_count": 63
        }
      ]
    },
    {
      "cell_type": "code",
      "source": [
        "np.unique(r, return_counts=True) # 위에서 나오지 않은 값제외하고 나옴"
      ],
      "metadata": {
        "colab": {
          "base_uri": "https://localhost:8080/"
        },
        "id": "eNgKz-YXhFSh",
        "outputId": "e200df35-28a8-4aa8-aff0-97ea7bc017b1"
      },
      "execution_count": 65,
      "outputs": [
        {
          "output_type": "execute_result",
          "data": {
            "text/plain": [
              "(array([0, 1, 2, 3, 4, 5]), array([4, 2, 1, 1, 1, 1]))"
            ]
          },
          "metadata": {},
          "execution_count": 65
        }
      ]
    },
    {
      "cell_type": "code",
      "source": [
        "np.bincount(r, minlength=6)"
      ],
      "metadata": {
        "colab": {
          "base_uri": "https://localhost:8080/"
        },
        "id": "cRxVAAh1gmmh",
        "outputId": "b20c56fc-66f3-4bf5-9df3-2c1a17e28f11"
      },
      "execution_count": 67,
      "outputs": [
        {
          "output_type": "execute_result",
          "data": {
            "text/plain": [
              "array([4, 2, 1, 1, 1, 1])"
            ]
          },
          "metadata": {},
          "execution_count": 67
        }
      ]
    },
    {
      "cell_type": "code",
      "source": [
        "np.bincount([1, 1, 2, 2, 2, 3], minlength=6) "
      ],
      "metadata": {
        "colab": {
          "base_uri": "https://localhost:8080/"
        },
        "id": "7Dsnlx8qhAd-",
        "outputId": "b0023203-ba44-4774-f168-e709545d468d"
      },
      "execution_count": 66,
      "outputs": [
        {
          "output_type": "execute_result",
          "data": {
            "text/plain": [
              "array([0, 2, 3, 1, 0, 0])"
            ]
          },
          "metadata": {},
          "execution_count": 66
        }
      ]
    },
    {
      "cell_type": "code",
      "source": [],
      "metadata": {
        "id": "freiSehXhdk5"
      },
      "execution_count": null,
      "outputs": []
    }
  ]
}